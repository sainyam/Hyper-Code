{
 "cells": [
  {
   "cell_type": "code",
   "execution_count": 1,
   "id": "2de0d9d7-7a69-4863-87a6-e384fb6f3be5",
   "metadata": {},
   "outputs": [
    {
     "data": {
      "text/plain": [
       "2.8499999999999996"
      ]
     },
     "execution_count": 1,
     "metadata": {},
     "output_type": "execute_result"
    }
   ],
   "source": [
    "0.5*-3.1+0.1*2+0.1*6+0.3*12"
   ]
  },
  {
   "cell_type": "code",
   "execution_count": 2,
   "id": "e9285fa6-0bdb-46da-b6cb-318ce65d896b",
   "metadata": {},
   "outputs": [
    {
     "data": {
      "text/plain": [
       "8.2725"
      ]
     },
     "execution_count": 2,
     "metadata": {},
     "output_type": "execute_result"
    }
   ],
   "source": [
    "2.85**2-2.85+3"
   ]
  },
  {
   "cell_type": "code",
   "execution_count": 3,
   "id": "fe8d2b1f-6e89-4e8b-bc60-cc177211ebc9",
   "metadata": {},
   "outputs": [
    {
     "data": {
      "text/plain": [
       "52.004999999999995"
      ]
     },
     "execution_count": 3,
     "metadata": {},
     "output_type": "execute_result"
    }
   ],
   "source": [
    "0.5*3.1**2+0.1*2**2+0.1*6**2+0.3*12**2"
   ]
  },
  {
   "cell_type": "code",
   "execution_count": 4,
   "id": "557f18c6-3d7e-4129-bf8a-0c21d3d32698",
   "metadata": {},
   "outputs": [
    {
     "data": {
      "text/plain": [
       "43.8825"
      ]
     },
     "execution_count": 4,
     "metadata": {},
     "output_type": "execute_result"
    }
   ],
   "source": [
    "52.005-2.85**2"
   ]
  },
  {
   "cell_type": "code",
   "execution_count": 5,
   "id": "973fdfb4-d353-4149-8d86-a57e89220cda",
   "metadata": {},
   "outputs": [
    {
     "data": {
      "text/plain": [
       "8.1225"
      ]
     },
     "execution_count": 5,
     "metadata": {},
     "output_type": "execute_result"
    }
   ],
   "source": [
    "2.85**2"
   ]
  },
  {
   "cell_type": "code",
   "execution_count": null,
   "id": "314b8423-3389-4a4b-a765-748992eaa997",
   "metadata": {},
   "outputs": [],
   "source": []
  }
 ],
 "metadata": {
  "kernelspec": {
   "display_name": "Python 3 (ipykernel)",
   "language": "python",
   "name": "python3"
  },
  "language_info": {
   "codemirror_mode": {
    "name": "ipython",
    "version": 3
   },
   "file_extension": ".py",
   "mimetype": "text/x-python",
   "name": "python",
   "nbconvert_exporter": "python",
   "pygments_lexer": "ipython3",
   "version": "3.10.4"
  }
 },
 "nbformat": 4,
 "nbformat_minor": 5
}
