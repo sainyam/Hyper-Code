{
 "cells": [
  {
   "cell_type": "code",
   "execution_count": null,
   "metadata": {},
   "outputs": [],
   "source": [
    "def find_backdoor_sets(G, nodes):\n",
    "    \"\"\"\n",
    "    G: causal graph\n",
    "    nodes: the nodes in casaul graph\n",
    "    \"\"\"\n",
    "    backdoor_sets = defaultdict(list)\n",
    "    for node in nodes:\n",
    "        for adj_node in G.predecessors(node):\n",
    "            backdoor_sets[node].append(adj_node)\n",
    "    return backdoor_sets"
   ]
  },
  {
   "cell_type": "code",
   "execution_count": null,
   "metadata": {},
   "outputs": [],
   "source": [
    "def adjust_for_backdoor(df, var, intervention_value, bd_set, target_column):\n",
    "    # Adjust a single variable for backdoor paths\n",
    "    adjusted_values = []\n",
    "    for y in df[target_column].unique():\n",
    "        adjusted_prob = backdoor_adjustment(df, target_column, y, var, intervention_value, bd_set)\n",
    "        adjusted_values.append(adjusted_prob)\n",
    "    return adjusted_values\n",
    "\n",
    "def ranking_query(G, df, k, update_vars, target_column, condition=None):\n",
    "    df_temp = df.copy()\n",
    "    # ... [Existing filtering code]\n",
    "\n",
    "    backdoor_sets = find_backdoor_sets(G, G.nodes())\n",
    "\n",
    "    for var, value in update_vars.items():\n",
    "        if var in backdoor_sets:\n",
    "            bd_set = backdoor_sets[var]\n",
    "            adjusted_values = adjust_for_backdoor(df_temp, var, value, bd_set, target_column)\n",
    "            # Apply the adjusted probabilities to the target column\n",
    "            df_temp[target_column] = adjusted_values\n",
    "\n",
    "    # ... [Existing ranking code]\n",
    "\n",
    "    return df_temp.loc[top_k_indices]"
   ]
  }
 ],
 "metadata": {
  "kernelspec": {
   "display_name": "base",
   "language": "python",
   "name": "python3"
  },
  "language_info": {
   "name": "python",
   "version": "3.11.5"
  }
 },
 "nbformat": 4,
 "nbformat_minor": 2
}
