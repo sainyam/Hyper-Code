{
 "cells": [
  {
   "cell_type": "code",
   "execution_count": null,
   "id": "ca0383d0-f2ec-4131-b2a7-e42b9aab7bbe",
   "metadata": {},
   "outputs": [],
   "source": [
    "import pandas as pd\n",
    "import numpy as np\n",
    "import statsmodels.api as sm\n",
    "import matplotlib.pyplot as plt\n",
    "import networkx as nx\n",
    "import itertools\n",
    "import math as m\n",
    "from collections import defaultdict\n",
    "import networkx as nx\n",
    "import matplotlib.pyplot as plt\n",
    "from sklearn.ensemble import RandomForestRegressor\n",
    "from sklearn.linear_model import Ridge, Lasso, LinearRegression\n",
    "from sklearn.model_selection import train_test_split,GridSearchCV,KFold\n",
    "import seaborn as sns"
   ]
  },
  {
   "cell_type": "code",
   "execution_count": null,
   "id": "f40987bc-3580-4d4d-9f8b-71889597175f",
   "metadata": {},
   "outputs": [],
   "source": [
    "import ranking_funcs"
   ]
  },
  {
   "cell_type": "code",
   "execution_count": null,
   "id": "09494ec0-4b56-4fa8-add1-b2cff6a45ec7",
   "metadata": {},
   "outputs": [],
   "source": [
    "df=ranking_funcs.read_data('German.csv')"
   ]
  },
  {
   "cell_type": "code",
   "execution_count": null,
   "id": "f2109083-9516-4b72-aabf-477f36845633",
   "metadata": {},
   "outputs": [],
   "source": [
    "G = nx.DiGraph()\n",
    "\n",
    "\n",
    "nodes = ['sex', 'status', 'credit_amount', 'credit', 'age', 'housing']\n",
    "G.add_nodes_from(nodes)\n",
    "\n",
    "G.add_edges_from([('sex', 'status'), ('sex', 'credit_amount'), ('sex', 'credit'),\n",
    "                  ('housing', 'status'), ('age', 'status'), \n",
    "                  ('age', 'credit'), ('age', 'credit_amount'),('credit_amount', 'credit'),('status', 'credit')])\n",
    "\n",
    "\n",
    "layout = nx.circular_layout(G)\n",
    "\n",
    "nx.draw(G, with_labels=True, node_color='skyblue', node_size=2500, edge_color='gray', arrowsize=20, pos=layout)\n",
    "\n",
    "plt.savefig(f'ranking_plots/causal_graph_German.png')\n",
    "plt.show()"
   ]
  },
  {
   "cell_type": "code",
   "execution_count": null,
   "id": "ae9c13ee-0c09-4a34-b868-83483e2345c3",
   "metadata": {},
   "outputs": [],
   "source": [
    "new_G_combined=ranking_funcs.get_new_G_combined(G,df)\n",
    "new_G_combined_rf=ranking_funcs.get_new_G_combined_rf(G,df)"
   ]
  },
  {
   "cell_type": "code",
   "execution_count": null,
   "id": "ddb8a4e1-379b-4c4b-9af5-bc64859523af",
   "metadata": {},
   "outputs": [],
   "source": [
    "X=df[['sex', 'status', 'age', 'housing']]\n",
    "y=df['credit_amount']\n",
    "\n",
    "updated_df=ranking_funcs.get_ranking_query(new_G, df, len(df), {'status':1}, 'credit_amount',{'age':1},'fix')\n",
    "updated_df_X=updated_df[['sex', 'status', 'age', 'housing']]\n",
    "updated_df_y=updated_df['credit_amount']"
   ]
  },
  {
   "cell_type": "code",
   "execution_count": null,
   "id": "fcdc3339-d6fe-4712-9699-bec55ee46a36",
   "metadata": {},
   "outputs": [],
   "source": [
    "rf_estimator=RandomForestRegressor(random_state=1234).fit(X, y)\n",
    "rf_result=rf_estimator.predict(updated_df_X)\n",
    "updated_df['rf_prediction']=rf_result\n",
    "rf_order=updated_df.sort_values(by='rf_prediction',ascending=False)\n",
    "rf_order"
   ]
  },
  {
   "cell_type": "code",
   "execution_count": 8,
   "id": "0a2d30ca-bf9c-4048-885f-db01b8e8c40b",
   "metadata": {},
   "outputs": [],
   "source": [
    "X_const = sm.add_constant(X)\n",
    "updated_X_const = sm.add_constant(updated_df_X)\n",
    "ols_model = sm.OLS(y, X_const).fit()\n",
    "ols_result = ols_model.predict(updated_X_const)\n",
    "updated_df['ols_prediction']=ols_result\n",
    "ols_order=updated_df.sort_values(by='ols_prediction',ascending=False)"
   ]
  },
  {
   "cell_type": "code",
   "execution_count": 9,
   "id": "3d308ec8-3046-4d78-813b-11b25aaae856",
   "metadata": {},
   "outputs": [],
   "source": [
    "backdoor_1_preds_cg=ranking_funcs.predict_backdoor_opt(new_G_combined_rf, df, len(df), {'status':1}, 'credit_amount',\n",
    "                         {'age':1},\"fix\")\n",
    "\n",
    "backdoor_2_preds_cg=ranking_funcs.predict_backdoor_opt2(new_G_combined_rf, df, len(df), {'status':1}, 'credit_amount',\n",
    "                         {'age':1},\"fix\")"
   ]
  },
  {
   "cell_type": "code",
   "execution_count": 10,
   "id": "c684d25e-88cb-47a1-8c8b-7833a83d848e",
   "metadata": {},
   "outputs": [],
   "source": [
    "rf_results=[]\n",
    "rf_results_in_topk=[]\n",
    "\n",
    "ols_results = []\n",
    "ols_results_in_topk = []\n",
    "\n",
    "back_door_opt1_with_combined_G=[]\n",
    "back_door_opt1_with_combined_G_in_topk=[]\n",
    "\n",
    "back_door_opt2_with_combined_G=[]\n",
    "back_door_opt2_with_combined_G_in_topk=[]\n",
    "\n",
    "for i in range(1,len(updated_df)+1):\n",
    "    rf_results.append(ranking_funcs.accuracy_topk_rank(rf_order.head(i).index,updated_df.head(i).index))\n",
    "    rf_results_in_topk.append(ranking_funcs.accuracy_in_topk(rf_order.head(i).index,updated_df.head(i).index))\n",
    "    \n",
    "    ols_results.append(ranking_funcs.accuracy_topk_rank(ols_order.head(i).index,updated_df.head(i).index))\n",
    "    ols_results_in_topk.append(ranking_funcs.accuracy_in_topk(ols_order.head(i).index,updated_df.head(i).index))\n",
    "    \n",
    "    back_door_opt1_with_combined_G.append(ranking_funcs.accuracy_topk_rank(backdoor_1_preds_cg['row_index'].head(i).to_list(),updated_df.head(i).index))\n",
    "    back_door_opt1_with_combined_G_in_topk.append(ranking_funcs.accuracy_in_topk(backdoor_1_preds_cg['row_index'].head(i).to_list(),updated_df.head(i).index))\n",
    "    \n",
    "    back_door_opt2_with_combined_G.append(ranking_funcs.accuracy_topk_rank(backdoor_2_preds_cg['row_index'].head(i).to_list(),updated_df.head(i).index))\n",
    "    back_door_opt2_with_combined_G_in_topk.append(ranking_funcs.accuracy_in_topk(backdoor_2_preds_cg['row_index'].head(i).to_list(),updated_df.head(i).index))"
   ]
  }
 ],
 "metadata": {
  "kernelspec": {
   "display_name": "Python 3 (ipykernel)",
   "language": "python",
   "name": "python3"
  },
  "language_info": {
   "codemirror_mode": {
    "name": "ipython",
    "version": 3
   },
   "file_extension": ".py",
   "mimetype": "text/x-python",
   "name": "python",
   "nbconvert_exporter": "python",
   "pygments_lexer": "ipython3",
   "version": "3.10.4"
  }
 },
 "nbformat": 4,
 "nbformat_minor": 5
}
