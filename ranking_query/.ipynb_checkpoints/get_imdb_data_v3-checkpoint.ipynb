{
 "cells": [
  {
   "cell_type": "code",
   "execution_count": 1,
   "id": "1bcd2bdd-7f14-47ff-b14d-24d6f7ea3c1e",
   "metadata": {},
   "outputs": [],
   "source": [
    "import pandas as pd\n",
    "import numpy as np\n",
    "import statsmodels.api as sm\n",
    "import matplotlib.pyplot as plt\n",
    "import networkx as nx\n",
    "import itertools\n",
    "import math as m\n",
    "from collections import defaultdict"
   ]
  },
  {
   "cell_type": "code",
   "execution_count": 2,
   "id": "df80514e-0b5d-4720-8d95-9b517127551d",
   "metadata": {},
   "outputs": [],
   "source": [
    "name_df=pd.read_csv('ranking_data_sets/name.basics.tsv', sep='\\t')"
   ]
  },
  {
   "cell_type": "code",
   "execution_count": 5,
   "id": "0bd9090a-b9f5-4d52-8e36-0eed7fc9382f",
   "metadata": {},
   "outputs": [],
   "source": [
    "popular_actors=['Scarlett Johansson',\n",
    "                'Emma Mackey',\n",
    "                'Margot Robbie',\n",
    "                'Johnny Depp',\n",
    "                'Jason Momoa',\n",
    "                'Rinko Kikuchi',\n",
    "                'Ben Kingsley',\n",
    "                'Om Puri',\n",
    "                'Taylor Kitsch',\n",
    "                'Angelina Jolie',\n",
    "               'Jennifer Aniston',\n",
    "               'Chris Hemsworth']\n",
    "\n",
    "\n",
    "name_fa = name_df[name_df['primaryName'].isin(popular_actors)]"
   ]
  },
  {
   "cell_type": "code",
   "execution_count": 6,
   "id": "cb9d4ac3-d21f-4412-a560-3428d7993550",
   "metadata": {},
   "outputs": [
    {
     "data": {
      "text/html": [
       "<div>\n",
       "<style scoped>\n",
       "    .dataframe tbody tr th:only-of-type {\n",
       "        vertical-align: middle;\n",
       "    }\n",
       "\n",
       "    .dataframe tbody tr th {\n",
       "        vertical-align: top;\n",
       "    }\n",
       "\n",
       "    .dataframe thead th {\n",
       "        text-align: right;\n",
       "    }\n",
       "</style>\n",
       "<table border=\"1\" class=\"dataframe\">\n",
       "  <thead>\n",
       "    <tr style=\"text-align: right;\">\n",
       "      <th></th>\n",
       "      <th>nconst</th>\n",
       "      <th>primaryName</th>\n",
       "      <th>birthYear</th>\n",
       "      <th>deathYear</th>\n",
       "      <th>primaryProfession</th>\n",
       "      <th>knownForTitles</th>\n",
       "    </tr>\n",
       "  </thead>\n",
       "  <tbody>\n",
       "    <tr>\n",
       "      <th>97</th>\n",
       "      <td>nm0000098</td>\n",
       "      <td>Jennifer Aniston</td>\n",
       "      <td>1969</td>\n",
       "      <td>\\N</td>\n",
       "      <td>actress,producer,soundtrack</td>\n",
       "      <td>tt0279113,tt0108778,tt3442006,tt1723121</td>\n",
       "    </tr>\n",
       "    <tr>\n",
       "      <th>135</th>\n",
       "      <td>nm0000136</td>\n",
       "      <td>Johnny Depp</td>\n",
       "      <td>1963</td>\n",
       "      <td>\\N</td>\n",
       "      <td>actor,producer,soundtrack</td>\n",
       "      <td>tt0325980,tt0449088,tt0408236,tt0367594</td>\n",
       "    </tr>\n",
       "    <tr>\n",
       "      <th>1399</th>\n",
       "      <td>nm0001401</td>\n",
       "      <td>Angelina Jolie</td>\n",
       "      <td>1975</td>\n",
       "      <td>\\N</td>\n",
       "      <td>actress,producer,director</td>\n",
       "      <td>tt0944835,tt1587310,tt0824747,tt0172493</td>\n",
       "    </tr>\n",
       "    <tr>\n",
       "      <th>1424</th>\n",
       "      <td>nm0001426</td>\n",
       "      <td>Ben Kingsley</td>\n",
       "      <td>1943</td>\n",
       "      <td>\\N</td>\n",
       "      <td>actor,soundtrack,producer</td>\n",
       "      <td>tt0083987,tt0108052,tt0203119,tt1300854</td>\n",
       "    </tr>\n",
       "    <tr>\n",
       "      <th>400915</th>\n",
       "      <td>nm0424060</td>\n",
       "      <td>Scarlett Johansson</td>\n",
       "      <td>1984</td>\n",
       "      <td>\\N</td>\n",
       "      <td>actress,soundtrack,producer</td>\n",
       "      <td>tt0335266,tt1798709,tt1441395,tt0848228</td>\n",
       "    </tr>\n",
       "    <tr>\n",
       "      <th>427940</th>\n",
       "      <td>nm0452860</td>\n",
       "      <td>Rinko Kikuchi</td>\n",
       "      <td>1981</td>\n",
       "      <td>\\N</td>\n",
       "      <td>actress,director,writer</td>\n",
       "      <td>tt0844286,tt1663662,tt0449467,tt3263614</td>\n",
       "    </tr>\n",
       "    <tr>\n",
       "      <th>563616</th>\n",
       "      <td>nm0597388</td>\n",
       "      <td>Jason Momoa</td>\n",
       "      <td>1979</td>\n",
       "      <td>\\N</td>\n",
       "      <td>actor,producer,writer</td>\n",
       "      <td>tt5433140,tt0974015,tt1477834,tt4334266</td>\n",
       "    </tr>\n",
       "    <tr>\n",
       "      <th>660711</th>\n",
       "      <td>nm0700875</td>\n",
       "      <td>Om Puri</td>\n",
       "      <td>1950</td>\n",
       "      <td>2017</td>\n",
       "      <td>actor,miscellaneous,music_department</td>\n",
       "      <td>tt0111742,tt0166175,tt0116409,tt2980648</td>\n",
       "    </tr>\n",
       "    <tr>\n",
       "      <th>2487589</th>\n",
       "      <td>nm1165110</td>\n",
       "      <td>Chris Hemsworth</td>\n",
       "      <td>1983</td>\n",
       "      <td>\\N</td>\n",
       "      <td>actor,producer,soundtrack</td>\n",
       "      <td>tt0796366,tt1735898,tt3501632,tt0848228</td>\n",
       "    </tr>\n",
       "    <tr>\n",
       "      <th>6514055</th>\n",
       "      <td>nm2018237</td>\n",
       "      <td>Taylor Kitsch</td>\n",
       "      <td>1981</td>\n",
       "      <td>\\N</td>\n",
       "      <td>actor,producer,director</td>\n",
       "      <td>tt0758745,tt1440129,tt0401729,tt0458525</td>\n",
       "    </tr>\n",
       "    <tr>\n",
       "      <th>7421027</th>\n",
       "      <td>nm3053338</td>\n",
       "      <td>Margot Robbie</td>\n",
       "      <td>1990</td>\n",
       "      <td>\\N</td>\n",
       "      <td>actress,producer,soundtrack</td>\n",
       "      <td>tt7713068,tt0993846,tt1386697,tt5580036</td>\n",
       "    </tr>\n",
       "    <tr>\n",
       "      <th>11563191</th>\n",
       "      <td>nm8076281</td>\n",
       "      <td>Emma Mackey</td>\n",
       "      <td>1996</td>\n",
       "      <td>\\N</td>\n",
       "      <td>actress</td>\n",
       "      <td>tt10366514,tt7657566,tt1517268,tt12374656</td>\n",
       "    </tr>\n",
       "  </tbody>\n",
       "</table>\n",
       "</div>"
      ],
      "text/plain": [
       "             nconst         primaryName birthYear deathYear  \\\n",
       "97        nm0000098    Jennifer Aniston      1969        \\N   \n",
       "135       nm0000136         Johnny Depp      1963        \\N   \n",
       "1399      nm0001401      Angelina Jolie      1975        \\N   \n",
       "1424      nm0001426        Ben Kingsley      1943        \\N   \n",
       "400915    nm0424060  Scarlett Johansson      1984        \\N   \n",
       "427940    nm0452860       Rinko Kikuchi      1981        \\N   \n",
       "563616    nm0597388         Jason Momoa      1979        \\N   \n",
       "660711    nm0700875             Om Puri      1950      2017   \n",
       "2487589   nm1165110     Chris Hemsworth      1983        \\N   \n",
       "6514055   nm2018237       Taylor Kitsch      1981        \\N   \n",
       "7421027   nm3053338       Margot Robbie      1990        \\N   \n",
       "11563191  nm8076281         Emma Mackey      1996        \\N   \n",
       "\n",
       "                             primaryProfession  \\\n",
       "97                 actress,producer,soundtrack   \n",
       "135                  actor,producer,soundtrack   \n",
       "1399                 actress,producer,director   \n",
       "1424                 actor,soundtrack,producer   \n",
       "400915             actress,soundtrack,producer   \n",
       "427940                 actress,director,writer   \n",
       "563616                   actor,producer,writer   \n",
       "660711    actor,miscellaneous,music_department   \n",
       "2487589              actor,producer,soundtrack   \n",
       "6514055                actor,producer,director   \n",
       "7421027            actress,producer,soundtrack   \n",
       "11563191                               actress   \n",
       "\n",
       "                                     knownForTitles  \n",
       "97          tt0279113,tt0108778,tt3442006,tt1723121  \n",
       "135         tt0325980,tt0449088,tt0408236,tt0367594  \n",
       "1399        tt0944835,tt1587310,tt0824747,tt0172493  \n",
       "1424        tt0083987,tt0108052,tt0203119,tt1300854  \n",
       "400915      tt0335266,tt1798709,tt1441395,tt0848228  \n",
       "427940      tt0844286,tt1663662,tt0449467,tt3263614  \n",
       "563616      tt5433140,tt0974015,tt1477834,tt4334266  \n",
       "660711      tt0111742,tt0166175,tt0116409,tt2980648  \n",
       "2487589     tt0796366,tt1735898,tt3501632,tt0848228  \n",
       "6514055     tt0758745,tt1440129,tt0401729,tt0458525  \n",
       "7421027     tt7713068,tt0993846,tt1386697,tt5580036  \n",
       "11563191  tt10366514,tt7657566,tt1517268,tt12374656  "
      ]
     },
     "execution_count": 6,
     "metadata": {},
     "output_type": "execute_result"
    }
   ],
   "source": [
    "name_fa"
   ]
  },
  {
   "cell_type": "code",
   "execution_count": 7,
   "id": "ee60835a-e458-437f-b138-bb6e843552b3",
   "metadata": {},
   "outputs": [],
   "source": [
    "title_df=pd.read_csv('ranking_data_sets/title.ratings.tsv', sep='\\t')"
   ]
  },
  {
   "cell_type": "code",
   "execution_count": 8,
   "id": "8da1f06b-5ac3-49e0-b684-e521fd65d16d",
   "metadata": {},
   "outputs": [],
   "source": [
    "known_titles = name_fa['knownForTitles'].str.split(',', expand=True).stack().reset_index(level=1, drop=True)\n",
    "known_titles.name = 'knownForTitle'\n",
    "\n",
    "expanded_name_df = name_fa.drop(columns=['knownForTitles']).join(known_titles)\n",
    "\n",
    "\n",
    "merged_df = pd.merge(expanded_name_df, title_df, left_on='knownForTitle', right_on='tconst')"
   ]
  },
  {
   "cell_type": "code",
   "execution_count": 9,
   "id": "eb62a402-6a02-48f4-9105-40a94d52f5cc",
   "metadata": {},
   "outputs": [
    {
     "name": "stderr",
     "output_type": "stream",
     "text": [
      "/var/folders/fc/2czwg5s15mvc98ksz0lc2bz80000gn/T/ipykernel_40060/1245773564.py:1: DtypeWarning: Columns (4) have mixed types. Specify dtype option on import or set low_memory=False.\n",
      "  title_basics_df=pd.read_csv('ranking_data_sets/title.basics.tsv', sep='\\t')\n"
     ]
    }
   ],
   "source": [
    "title_basics_df=pd.read_csv('ranking_data_sets/title.basics.tsv', sep='\\t')"
   ]
  },
  {
   "cell_type": "code",
   "execution_count": 18,
   "id": "a1b7a3b8-1df3-40d0-ae30-e3c7be433df3",
   "metadata": {},
   "outputs": [],
   "source": [
    "principle_df=pd.read_csv('ranking_data_sets/title.principals.tsv', sep='\\t')"
   ]
  },
  {
   "cell_type": "code",
   "execution_count": 19,
   "id": "dc3588fd-4f3d-4bd2-b594-a42ebeb2ba12",
   "metadata": {},
   "outputs": [
    {
     "name": "stderr",
     "output_type": "stream",
     "text": [
      "/var/folders/fc/2czwg5s15mvc98ksz0lc2bz80000gn/T/ipykernel_40060/2185868812.py:5: SettingWithCopyWarning: \n",
      "A value is trying to be set on a copy of a slice from a DataFrame.\n",
      "Try using .loc[row_indexer,col_indexer] = value instead\n",
      "\n",
      "See the caveats in the documentation: https://pandas.pydata.org/pandas-docs/stable/user_guide/indexing.html#returning-a-view-versus-a-copy\n",
      "  name_fa['films_tv_participated'] = name_fa['nconst'].apply(lambda x: get_tconst(principle_df, x))\n",
      "/var/folders/fc/2czwg5s15mvc98ksz0lc2bz80000gn/T/ipykernel_40060/2185868812.py:7: SettingWithCopyWarning: \n",
      "A value is trying to be set on a copy of a slice from a DataFrame.\n",
      "Try using .loc[row_indexer,col_indexer] = value instead\n",
      "\n",
      "See the caveats in the documentation: https://pandas.pydata.org/pandas-docs/stable/user_guide/indexing.html#returning-a-view-versus-a-copy\n",
      "  name_fa['films_tv_participated'] = name_fa['nconst'].apply(lambda x: get_tconst(principle_df, x))\n",
      "/var/folders/fc/2czwg5s15mvc98ksz0lc2bz80000gn/T/ipykernel_40060/2185868812.py:9: SettingWithCopyWarning: \n",
      "A value is trying to be set on a copy of a slice from a DataFrame.\n",
      "Try using .loc[row_indexer,col_indexer] = value instead\n",
      "\n",
      "See the caveats in the documentation: https://pandas.pydata.org/pandas-docs/stable/user_guide/indexing.html#returning-a-view-versus-a-copy\n",
      "  name_fa['films_tv_participated'] = name_fa['films_tv_participated'].apply(lambda x: ', '.join(x) if isinstance(x, list) else x)\n"
     ]
    }
   ],
   "source": [
    "def get_tconst(principle_df,nconst):\n",
    "    df=principle_df[(principle_df['nconst'] == nconst) & ((principle_df['category'] == 'actress')|((principle_df['category'] == 'actor')))]\n",
    "    return df['tconst'].tolist()\n",
    "\n",
    "name_fa['films_tv_participated'] = name_fa['nconst'].apply(lambda x: get_tconst(principle_df, x))\n",
    "\n",
    "name_fa['films_tv_participated'] = name_fa['nconst'].apply(lambda x: get_tconst(principle_df, x))\n",
    "\n",
    "name_fa['films_tv_participated'] = name_fa['films_tv_participated'].apply(lambda x: ', '.join(x) if isinstance(x, list) else x)\n",
    "\n",
    "films_tv_participated = name_fa['films_tv_participated'].str.split(', ', expand=True).stack().reset_index(level=1, drop=True)\n",
    "films_tv_participated.name = 'films_tv_participated'\n",
    "\n",
    "expanded_name_df = name_fa.drop(columns=['films_tv_participated']).join(films_tv_participated)\n",
    "\n",
    "merged_df = pd.merge(expanded_name_df, title_df, left_on='films_tv_participated', right_on='tconst')\n"
   ]
  },
  {
   "cell_type": "code",
   "execution_count": 20,
   "id": "6e711106-665b-41aa-aafe-8cc85f18920d",
   "metadata": {},
   "outputs": [],
   "source": [
    "merged_df2 = pd.merge(merged_df, title_basics_df, left_on='films_tv_participated', right_on='tconst')"
   ]
  },
  {
   "cell_type": "code",
   "execution_count": 21,
   "id": "3939c012-fc11-4be0-8216-b9743f82bf2b",
   "metadata": {},
   "outputs": [
    {
     "data": {
      "text/plain": [
       "1287"
      ]
     },
     "execution_count": 21,
     "metadata": {},
     "output_type": "execute_result"
    }
   ],
   "source": [
    "len(merged_df2)"
   ]
  },
  {
   "cell_type": "code",
   "execution_count": 22,
   "id": "d06555af-5e7b-415e-8e0e-86c9bce80c39",
   "metadata": {},
   "outputs": [],
   "source": [
    "merged_df2_movies=merged_df2[merged_df2['titleType']=='movie']"
   ]
  },
  {
   "cell_type": "code",
   "execution_count": 24,
   "id": "f5e91f52-c569-4556-ab66-8986ca6ae1e6",
   "metadata": {},
   "outputs": [
    {
     "data": {
      "text/plain": [
       "460"
      ]
     },
     "execution_count": 24,
     "metadata": {},
     "output_type": "execute_result"
    }
   ],
   "source": [
    "len(merged_df2_movies)"
   ]
  },
  {
   "cell_type": "code",
   "execution_count": 25,
   "id": "72fe22e9-29d8-4e2a-b286-34f8c8dd5565",
   "metadata": {},
   "outputs": [],
   "source": [
    "transformed_df = merged_df2_movies.copy()"
   ]
  },
  {
   "cell_type": "code",
   "execution_count": 26,
   "id": "060c2721-c8f3-41bb-8dc3-685e86d18d69",
   "metadata": {},
   "outputs": [],
   "source": [
    "transformed_df = transformed_df[transformed_df['runtimeMinutes'] != '\\\\N']"
   ]
  },
  {
   "cell_type": "code",
   "execution_count": 27,
   "id": "6dedbbb9-852e-4b90-99aa-e22500be235a",
   "metadata": {},
   "outputs": [
    {
     "data": {
      "text/plain": [
       "436"
      ]
     },
     "execution_count": 27,
     "metadata": {},
     "output_type": "execute_result"
    }
   ],
   "source": [
    "len(transformed_df)"
   ]
  },
  {
   "cell_type": "code",
   "execution_count": 29,
   "id": "6abf829f-eb3a-4882-846e-a5ab844f5c7d",
   "metadata": {},
   "outputs": [],
   "source": [
    "def map_genre_to_category(genre):\n",
    "    if any(sub_genre in genre for sub_genre in [\"Action\", \"Adventure\"]):\n",
    "        return \"Action & Adventure\"\n",
    "    elif \"Comedy\" in genre:\n",
    "        return \"Comedy\"\n",
    "    elif \"Drama\" in genre:\n",
    "        return \"Drama\"\n",
    "    elif any(sub_genre in genre for sub_genre in [\"Horror\", \"Thriller\", \"Mystery\"]):\n",
    "        return \"Horror & Thriller\"\n",
    "    elif any(sub_genre in genre for sub_genre in [\"Sci-Fi\", \"Fantasy\"]):\n",
    "        return \"Science Fiction & Fantasy\"\n",
    "    elif \"Crime\" in genre:\n",
    "        return \"Crime & Mystery\"\n",
    "    elif any(sub_genre in genre for sub_genre in [\"Documentary\", \"Biography\", \"History\"]):\n",
    "        return \"Documentary & Biography\"\n",
    "    elif any(sub_genre in genre for sub_genre in [\"Family\", \"Animation\"]):\n",
    "        return \"Family & Animation\"\n",
    "    elif any(sub_genre in genre for sub_genre in [\"Musical\", \"Music\"]):\n",
    "        return \"Musical & Music\"\n",
    "    else:\n",
    "        return \"Other\""
   ]
  },
  {
   "cell_type": "code",
   "execution_count": 30,
   "id": "ea66e5d0-6115-451a-808d-3678f64e0c6a",
   "metadata": {},
   "outputs": [],
   "source": [
    "transformed_df['genres'] = transformed_df['genres'].apply(map_genre_to_category)"
   ]
  },
  {
   "cell_type": "code",
   "execution_count": 31,
   "id": "959274f2-4642-4689-ad63-68fee80ad40f",
   "metadata": {},
   "outputs": [],
   "source": [
    "transformed_df.to_csv('ranking_data_sets/imdb_movie_stars_v3.csv', index=False)"
   ]
  },
  {
   "cell_type": "code",
   "execution_count": null,
   "id": "20e6bcd8-cdba-404b-bf52-5db3be03c247",
   "metadata": {},
   "outputs": [],
   "source": []
  }
 ],
 "metadata": {
  "kernelspec": {
   "display_name": "Python 3 (ipykernel)",
   "language": "python",
   "name": "python3"
  },
  "language_info": {
   "codemirror_mode": {
    "name": "ipython",
    "version": 3
   },
   "file_extension": ".py",
   "mimetype": "text/x-python",
   "name": "python",
   "nbconvert_exporter": "python",
   "pygments_lexer": "ipython3",
   "version": "3.10.4"
  }
 },
 "nbformat": 4,
 "nbformat_minor": 5
}
