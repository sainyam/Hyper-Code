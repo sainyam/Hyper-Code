{
 "cells": [
  {
   "cell_type": "code",
   "execution_count": 1,
   "id": "cd2e6781-8ef0-4e37-980d-ca1d30016a1f",
   "metadata": {},
   "outputs": [],
   "source": [
    "import pandas as pd\n",
    "import numpy as np\n",
    "import statsmodels.api as sm\n",
    "import matplotlib.pyplot as plt\n",
    "import networkx as nx\n",
    "import itertools\n",
    "import math as m\n",
    "from collections import defaultdict"
   ]
  },
  {
   "cell_type": "code",
   "execution_count": 2,
   "id": "1a2e5e5e-2d7d-4e82-a6fe-edd9004a748d",
   "metadata": {},
   "outputs": [
    {
     "name": "stderr",
     "output_type": "stream",
     "text": [
      "/Users/wangning/opt/anaconda3/envs/cpsc330/lib/python3.10/site-packages/tqdm/auto.py:22: TqdmWarning: IProgress not found. Please update jupyter and ipywidgets. See https://ipywidgets.readthedocs.io/en/stable/user_install.html\n",
      "  from .autonotebook import tqdm as notebook_tqdm\n"
     ]
    }
   ],
   "source": [
    "from pgmpy.models import BayesianNetwork\n",
    "from pgmpy.inference.CausalInference import CausalInference"
   ]
  },
  {
   "cell_type": "code",
   "execution_count": 3,
   "id": "c07c1249-a5b2-411d-8064-b72280dc5ed2",
   "metadata": {},
   "outputs": [],
   "source": [
    "from ranking_funcs import read_imdb_data,Comp_Greedy_Algo_backdoor,get_prob_backdoor_opt,rec_row_prob_back,backdoor_adjustment_opt,find_backdoor_sets_opt,Greedy_Algo,get_most_probable_elements,get_cgm,get_prob_backdoor_opt,get_probs,get_prob_backdoor,filter_prob_df_grouped,read_data,get_ranking_query_prob_grouped,get_stable_ranking_opt,get_ranking_query,get_ranking_query_prob,get_test_revert_ranking_rec,get_new_G,filter_prob_df,calc_prob,base_line"
   ]
  },
  {
   "cell_type": "code",
   "execution_count": 6,
   "id": "571322a4-604f-42a9-94c4-c95ec044694f",
   "metadata": {},
   "outputs": [],
   "source": [
    "def read_imdb_data(path):\n",
    "    df = pd.read_csv(path)\n",
    "    df['averageRating'] = round(df['averageRating'], 0)\n",
    "\n",
    "    featlst = list(df.columns)\n",
    "\n",
    "    for feat in featlst:\n",
    "        l = df[feat]  \n",
    "\n",
    "        if feat == 'isAdult':\n",
    "            processed = [1 if v == 1 else 0 for v in l]\n",
    "            df[feat] = processed\n",
    "\n",
    "        if feat == 'runtimeMinutes':\n",
    "            processed = [0 if v <= 23 else 1 if v <= 37 else 2 if v <= 47 else 3 for v in l]\n",
    "            df[feat] = processed\n",
    "\n",
    "        if feat == 'seasonNumber':\n",
    "            processed = [0 if v <= 1 else 1 if v <= 2 else 2 if v <= 5 else 3 for v in l]\n",
    "            df[feat] = processed\n",
    "\n",
    "        if feat == 'episodeNumber':\n",
    "            processed = [0 if v <= 4 else 1 if v <= 8 else 2 if v <= 15 else 3 for v in l]\n",
    "            df[feat] = processed\n",
    "\n",
    "        if feat == 'numVotes':\n",
    "            processed = [0 if v <= 14 else 1 if v <= 35 else 2 if v <= 139 else 3 for v in l]\n",
    "            df[feat] = processed\n",
    "\n",
    "    return df\n",
    "\n"
   ]
  },
  {
   "cell_type": "code",
   "execution_count": 7,
   "id": "980d1eda-0416-4316-addb-1f76130997ff",
   "metadata": {},
   "outputs": [
    {
     "data": {
      "text/html": [
       "<div>\n",
       "<style scoped>\n",
       "    .dataframe tbody tr th:only-of-type {\n",
       "        vertical-align: middle;\n",
       "    }\n",
       "\n",
       "    .dataframe tbody tr th {\n",
       "        vertical-align: top;\n",
       "    }\n",
       "\n",
       "    .dataframe thead th {\n",
       "        text-align: right;\n",
       "    }\n",
       "</style>\n",
       "<table border=\"1\" class=\"dataframe\">\n",
       "  <thead>\n",
       "    <tr style=\"text-align: right;\">\n",
       "      <th></th>\n",
       "      <th>tconst</th>\n",
       "      <th>isAdult</th>\n",
       "      <th>runtimeMinutes</th>\n",
       "      <th>seasonNumber</th>\n",
       "      <th>episodeNumber</th>\n",
       "      <th>averageRating</th>\n",
       "      <th>numVotes</th>\n",
       "    </tr>\n",
       "  </thead>\n",
       "  <tbody>\n",
       "    <tr>\n",
       "      <th>0</th>\n",
       "      <td>tt0041951</td>\n",
       "      <td>0</td>\n",
       "      <td>1</td>\n",
       "      <td>0</td>\n",
       "      <td>2</td>\n",
       "      <td>8.0</td>\n",
       "      <td>2</td>\n",
       "    </tr>\n",
       "    <tr>\n",
       "      <th>1</th>\n",
       "      <td>tt0044093</td>\n",
       "      <td>0</td>\n",
       "      <td>3</td>\n",
       "      <td>0</td>\n",
       "      <td>1</td>\n",
       "      <td>4.0</td>\n",
       "      <td>1</td>\n",
       "    </tr>\n",
       "    <tr>\n",
       "      <th>2</th>\n",
       "      <td>tt0045960</td>\n",
       "      <td>0</td>\n",
       "      <td>3</td>\n",
       "      <td>1</td>\n",
       "      <td>0</td>\n",
       "      <td>7.0</td>\n",
       "      <td>3</td>\n",
       "    </tr>\n",
       "    <tr>\n",
       "      <th>3</th>\n",
       "      <td>tt0046855</td>\n",
       "      <td>0</td>\n",
       "      <td>3</td>\n",
       "      <td>0</td>\n",
       "      <td>0</td>\n",
       "      <td>6.0</td>\n",
       "      <td>3</td>\n",
       "    </tr>\n",
       "    <tr>\n",
       "      <th>4</th>\n",
       "      <td>tt0047852</td>\n",
       "      <td>0</td>\n",
       "      <td>1</td>\n",
       "      <td>0</td>\n",
       "      <td>2</td>\n",
       "      <td>4.0</td>\n",
       "      <td>1</td>\n",
       "    </tr>\n",
       "  </tbody>\n",
       "</table>\n",
       "</div>"
      ],
      "text/plain": [
       "      tconst  isAdult  runtimeMinutes  seasonNumber  episodeNumber  \\\n",
       "0  tt0041951        0               1             0              2   \n",
       "1  tt0044093        0               3             0              1   \n",
       "2  tt0045960        0               3             1              0   \n",
       "3  tt0046855        0               3             0              0   \n",
       "4  tt0047852        0               1             0              2   \n",
       "\n",
       "   averageRating  numVotes  \n",
       "0            8.0         2  \n",
       "1            4.0         1  \n",
       "2            7.0         3  \n",
       "3            6.0         3  \n",
       "4            4.0         1  "
      ]
     },
     "execution_count": 7,
     "metadata": {},
     "output_type": "execute_result"
    }
   ],
   "source": [
    "df=read_imdb_data('ranking_data_sets/cleaned_imdb.csv')\n",
    "df.head()"
   ]
  },
  {
   "cell_type": "code",
   "execution_count": 8,
   "id": "062aec19-9922-4c71-ae28-743e4efcd7f6",
   "metadata": {},
   "outputs": [
    {
     "data": {
      "image/png": "[encoded data removed]",
      "text/plain": [
       "<Figure size 720x432 with 1 Axes>"
      ]
     },
     "metadata": {},
     "output_type": "display_data"
    }
   ],
   "source": [
    "G = nx.DiGraph()\n",
    "\n",
    "nodes = [\"isAdult\", \"runtimeMinutes\", \"seasonNumber\", \"episodeNumber\", \"averageRating\", \"numVotes\"]\n",
    "G.add_nodes_from(nodes)\n",
    "\n",
    "\n",
    "edges = [(\"isAdult\", \"runtimeMinutes\"),\n",
    "         (\"isAdult\", \"averageRating\"),\n",
    "         (\"isAdult\", \"numVotes\"),\n",
    "         (\"runtimeMinutes\", \"averageRating\"),\n",
    "         (\"seasonNumber\", \"averageRating\"),\n",
    "         (\"seasonNumber\", \"numVotes\"),\n",
    "         (\"episodeNumber\", \"averageRating\"),\n",
    "         (\"episodeNumber\", \"numVotes\")]\n",
    "G.add_edges_from(edges)\n",
    "\n",
    "plt.figure(figsize=(10, 6))\n",
    "nx.draw(G, with_labels=True, node_color='skyblue', node_size=2000, edge_color='black', linewidths=1, font_size=15)\n",
    "plt.title(\"Hypothetical Causal Graph\")\n",
    "plt.show()"
   ]
  },
  {
   "cell_type": "code",
   "execution_count": 9,
   "id": "bf8429c4-8764-4de0-8fdb-f1a2fcb8f2c4",
   "metadata": {},
   "outputs": [],
   "source": [
    "new_G=get_new_G(G,df)"
   ]
  },
  {
   "cell_type": "code",
   "execution_count": 11,
   "id": "cd7aed59-5cd6-4c90-9445-0f19f405d6c9",
   "metadata": {},
   "outputs": [
    {
     "data": {
      "text/html": [
       "<div>\n",
       "<style scoped>\n",
       "    .dataframe tbody tr th:only-of-type {\n",
       "        vertical-align: middle;\n",
       "    }\n",
       "\n",
       "    .dataframe tbody tr th {\n",
       "        vertical-align: top;\n",
       "    }\n",
       "\n",
       "    .dataframe thead th {\n",
       "        text-align: right;\n",
       "    }\n",
       "</style>\n",
       "<table border=\"1\" class=\"dataframe\">\n",
       "  <thead>\n",
       "    <tr style=\"text-align: right;\">\n",
       "      <th></th>\n",
       "      <th>tconst</th>\n",
       "      <th>isAdult</th>\n",
       "      <th>runtimeMinutes</th>\n",
       "      <th>seasonNumber</th>\n",
       "      <th>episodeNumber</th>\n",
       "      <th>averageRating</th>\n",
       "      <th>numVotes</th>\n",
       "    </tr>\n",
       "  </thead>\n",
       "  <tbody>\n",
       "    <tr>\n",
       "      <th>279835</th>\n",
       "      <td>tt27879387</td>\n",
       "      <td>0</td>\n",
       "      <td>2</td>\n",
       "      <td>0</td>\n",
       "      <td>0</td>\n",
       "      <td>10.0</td>\n",
       "      <td>3</td>\n",
       "    </tr>\n",
       "    <tr>\n",
       "      <th>278297</th>\n",
       "      <td>tt27587460</td>\n",
       "      <td>0</td>\n",
       "      <td>1</td>\n",
       "      <td>0</td>\n",
       "      <td>3</td>\n",
       "      <td>10.0</td>\n",
       "      <td>0</td>\n",
       "    </tr>\n",
       "    <tr>\n",
       "      <th>59282</th>\n",
       "      <td>tt0649595</td>\n",
       "      <td>0</td>\n",
       "      <td>1</td>\n",
       "      <td>3</td>\n",
       "      <td>3</td>\n",
       "      <td>10.0</td>\n",
       "      <td>0</td>\n",
       "    </tr>\n",
       "    <tr>\n",
       "      <th>85983</th>\n",
       "      <td>tt0738675</td>\n",
       "      <td>0</td>\n",
       "      <td>3</td>\n",
       "      <td>3</td>\n",
       "      <td>0</td>\n",
       "      <td>10.0</td>\n",
       "      <td>3</td>\n",
       "    </tr>\n",
       "    <tr>\n",
       "      <th>277481</th>\n",
       "      <td>tt27424286</td>\n",
       "      <td>0</td>\n",
       "      <td>0</td>\n",
       "      <td>0</td>\n",
       "      <td>1</td>\n",
       "      <td>10.0</td>\n",
       "      <td>0</td>\n",
       "    </tr>\n",
       "  </tbody>\n",
       "</table>\n",
       "</div>"
      ],
      "text/plain": [
       "            tconst  isAdult  runtimeMinutes  seasonNumber  episodeNumber  \\\n",
       "279835  tt27879387        0               2             0              0   \n",
       "278297  tt27587460        0               1             0              3   \n",
       "59282    tt0649595        0               1             3              3   \n",
       "85983    tt0738675        0               3             3              0   \n",
       "277481  tt27424286        0               0             0              1   \n",
       "\n",
       "        averageRating  numVotes  \n",
       "279835           10.0         3  \n",
       "278297           10.0         0  \n",
       "59282            10.0         0  \n",
       "85983            10.0         3  \n",
       "277481           10.0         0  "
      ]
     },
     "execution_count": 11,
     "metadata": {},
     "output_type": "execute_result"
    }
   ],
   "source": [
    "## top 5 with no updates\n",
    "df.sort_values(by='averageRating',ascending=False).head(5)"
   ]
  },
  {
   "cell_type": "code",
   "execution_count": 12,
   "id": "31a12174-3072-4566-9ff4-247f1fff43ef",
   "metadata": {},
   "outputs": [
    {
     "data": {
      "text/html": [
       "<div>\n",
       "<style scoped>\n",
       "    .dataframe tbody tr th:only-of-type {\n",
       "        vertical-align: middle;\n",
       "    }\n",
       "\n",
       "    .dataframe tbody tr th {\n",
       "        vertical-align: top;\n",
       "    }\n",
       "\n",
       "    .dataframe thead th {\n",
       "        text-align: right;\n",
       "    }\n",
       "</style>\n",
       "<table border=\"1\" class=\"dataframe\">\n",
       "  <thead>\n",
       "    <tr style=\"text-align: right;\">\n",
       "      <th></th>\n",
       "      <th>rank</th>\n",
       "      <th>prob</th>\n",
       "      <th>total_iters</th>\n",
       "    </tr>\n",
       "  </thead>\n",
       "  <tbody>\n",
       "    <tr>\n",
       "      <th>0</th>\n",
       "      <td>[3988, 4172, 5571, 9819, 3782]</td>\n",
       "      <td>0.7</td>\n",
       "      <td>35.0</td>\n",
       "    </tr>\n",
       "    <tr>\n",
       "      <th>1</th>\n",
       "      <td>[3782, 3988, 4172, 5571, 9819]</td>\n",
       "      <td>0.3</td>\n",
       "      <td>15.0</td>\n",
       "    </tr>\n",
       "  </tbody>\n",
       "</table>\n",
       "</div>"
      ],
      "text/plain": [
       "                             rank  prob  total_iters\n",
       "0  [3988, 4172, 5571, 9819, 3782]   0.7         35.0\n",
       "1  [3782, 3988, 4172, 5571, 9819]   0.3         15.0"
      ]
     },
     "execution_count": 12,
     "metadata": {},
     "output_type": "execute_result"
    }
   ],
   "source": [
    "var=['runtimeMinutes']\n",
    "df_gr=Greedy_Algo(new_G, df, 5, 'averageRating',var,0, {'seasonNumber':3},50, opt=\"add\",force=0.5)\n",
    "df_gr"
   ]
  },
  {
   "cell_type": "code",
   "execution_count": 13,
   "id": "5d737607-1fa2-4874-9504-425b7b2c6097",
   "metadata": {},
   "outputs": [
    {
     "data": {
      "text/html": [
       "<div>\n",
       "<style scoped>\n",
       "    .dataframe tbody tr th:only-of-type {\n",
       "        vertical-align: middle;\n",
       "    }\n",
       "\n",
       "    .dataframe tbody tr th {\n",
       "        vertical-align: top;\n",
       "    }\n",
       "\n",
       "    .dataframe thead th {\n",
       "        text-align: right;\n",
       "    }\n",
       "</style>\n",
       "<table border=\"1\" class=\"dataframe\">\n",
       "  <thead>\n",
       "    <tr style=\"text-align: right;\">\n",
       "      <th></th>\n",
       "      <th>element</th>\n",
       "      <th>prob</th>\n",
       "      <th>total_iters</th>\n",
       "    </tr>\n",
       "  </thead>\n",
       "  <tbody>\n",
       "    <tr>\n",
       "      <th>0</th>\n",
       "      <td>5571</td>\n",
       "      <td>1.0</td>\n",
       "      <td>50.0</td>\n",
       "    </tr>\n",
       "    <tr>\n",
       "      <th>1</th>\n",
       "      <td>3782</td>\n",
       "      <td>1.0</td>\n",
       "      <td>50.0</td>\n",
       "    </tr>\n",
       "    <tr>\n",
       "      <th>2</th>\n",
       "      <td>4172</td>\n",
       "      <td>1.0</td>\n",
       "      <td>50.0</td>\n",
       "    </tr>\n",
       "    <tr>\n",
       "      <th>3</th>\n",
       "      <td>3988</td>\n",
       "      <td>1.0</td>\n",
       "      <td>50.0</td>\n",
       "    </tr>\n",
       "    <tr>\n",
       "      <th>4</th>\n",
       "      <td>9819</td>\n",
       "      <td>1.0</td>\n",
       "      <td>50.0</td>\n",
       "    </tr>\n",
       "  </tbody>\n",
       "</table>\n",
       "</div>"
      ],
      "text/plain": [
       "   element  prob  total_iters\n",
       "0     5571   1.0         50.0\n",
       "1     3782   1.0         50.0\n",
       "2     4172   1.0         50.0\n",
       "3     3988   1.0         50.0\n",
       "4     9819   1.0         50.0"
      ]
     },
     "execution_count": 13,
     "metadata": {},
     "output_type": "execute_result"
    }
   ],
   "source": [
    "most_probable_elements=get_most_probable_elements(df_gr)\n",
    "most_probable_elements"
   ]
  },
  {
   "cell_type": "code",
   "execution_count": 15,
   "id": "867d284e-2881-4b0c-8b70-fffa0a89c6ab",
   "metadata": {},
   "outputs": [
    {
     "ename": "KeyboardInterrupt",
     "evalue": "",
     "output_type": "error",
     "traceback": [
      "\u001b[0;31m---------------------------------------------------------------------------\u001b[0m",
      "\u001b[0;31mKeyboardInterrupt\u001b[0m                         Traceback (most recent call last)",
      "Input \u001b[0;32mIn [15]\u001b[0m, in \u001b[0;36m<cell line: 2>\u001b[0;34m()\u001b[0m\n\u001b[1;32m      1\u001b[0m row_indexes\u001b[38;5;241m=\u001b[39m[\u001b[38;5;241m5571\u001b[39m, \u001b[38;5;241m3782\u001b[39m, \u001b[38;5;241m4172\u001b[39m, \u001b[38;5;241m3988\u001b[39m, \u001b[38;5;241m9819\u001b[39m]\n\u001b[0;32m----> 2\u001b[0m greedy_backdoor\u001b[38;5;241m=\u001b[39m\u001b[43mComp_Greedy_Algo_backdoor\u001b[49m\u001b[43m(\u001b[49m\u001b[43mrow_indexes\u001b[49m\u001b[43m,\u001b[49m\u001b[43mnew_G\u001b[49m\u001b[43m,\u001b[49m\u001b[43m \u001b[49m\u001b[43mdf\u001b[49m\u001b[43m,\u001b[49m\u001b[43m \u001b[49m\u001b[38;5;241;43m5\u001b[39;49m\u001b[43m,\u001b[49m\u001b[43m \u001b[49m\u001b[38;5;124;43m'\u001b[39;49m\u001b[38;5;124;43maverageRating\u001b[39;49m\u001b[38;5;124;43m'\u001b[39;49m\u001b[43m,\u001b[49m\u001b[43mvar\u001b[49m\u001b[43m,\u001b[49m\u001b[38;5;241;43m0\u001b[39;49m\u001b[43m,\u001b[49m\u001b[43m \u001b[49m\u001b[43m{\u001b[49m\u001b[38;5;124;43m'\u001b[39;49m\u001b[38;5;124;43mseasonNumber\u001b[39;49m\u001b[38;5;124;43m'\u001b[39;49m\u001b[43m:\u001b[49m\u001b[38;5;241;43m0\u001b[39;49m\u001b[43m}\u001b[49m\u001b[43m,\u001b[49m\u001b[38;5;241;43m1\u001b[39;49m\u001b[43m,\u001b[49m\u001b[43m \u001b[49m\u001b[43mopt\u001b[49m\u001b[38;5;241;43m=\u001b[39;49m\u001b[38;5;124;43m\"\u001b[39;49m\u001b[38;5;124;43madd\u001b[39;49m\u001b[38;5;124;43m\"\u001b[39;49m\u001b[43m,\u001b[49m\u001b[43mforce\u001b[49m\u001b[38;5;241;43m=\u001b[39;49m\u001b[38;5;241;43m0.5\u001b[39;49m\u001b[43m)\u001b[49m\n",
      "File \u001b[0;32m~/Desktop/cornell_repos/Hyper-Code/ranking_query/ranking_funcs.py:1371\u001b[0m, in \u001b[0;36mComp_Greedy_Algo_backdoor\u001b[0;34m(row_indexes, G, df, k, target_column, vars_test, thresh_hold, condition, max_iter, opt, force)\u001b[0m\n\u001b[1;32m   1369\u001b[0m \u001b[38;5;28;01mfor\u001b[39;00m i \u001b[38;5;129;01min\u001b[39;00m \u001b[38;5;28mrange\u001b[39m(max_iter):\n\u001b[1;32m   1370\u001b[0m     x_up\u001b[38;5;241m+\u001b[39m\u001b[38;5;241m=\u001b[39mx_sd\n\u001b[0;32m-> 1371\u001b[0m     updated_df\u001b[38;5;241m=\u001b[39m\u001b[43mget_ranking_query\u001b[49m\u001b[43m(\u001b[49m\u001b[43mG\u001b[49m\u001b[43m,\u001b[49m\u001b[43m \u001b[49m\u001b[43mdf\u001b[49m\u001b[43m,\u001b[49m\u001b[43m \u001b[49m\u001b[38;5;28;43mlen\u001b[39;49m\u001b[43m(\u001b[49m\u001b[43mdf\u001b[49m\u001b[43m)\u001b[49m\u001b[43m,\u001b[49m\u001b[43m \u001b[49m\u001b[43m{\u001b[49m\u001b[43mvar\u001b[49m\u001b[43m:\u001b[49m\u001b[43mx_up\u001b[49m\u001b[43m}\u001b[49m\u001b[43m,\u001b[49m\u001b[43m \u001b[49m\u001b[43mtarget_column\u001b[49m\u001b[43m,\u001b[49m\u001b[43m \u001b[49m\u001b[43mcondition\u001b[49m\u001b[43m,\u001b[49m\u001b[43m \u001b[49m\u001b[43mopt\u001b[49m\u001b[43m)\u001b[49m\u001b[38;5;241m.\u001b[39msort_values(by\u001b[38;5;241m=\u001b[39mtarget_column,ascending\u001b[38;5;241m=\u001b[39m\u001b[38;5;28;01mFalse\u001b[39;00m)\n\u001b[1;32m   1372\u001b[0m     theta\u001b[38;5;241m=\u001b[39mupdated_df[target_column][k\u001b[38;5;241m-\u001b[39m\u001b[38;5;241m1\u001b[39m]\n\u001b[1;32m   1373\u001b[0m     prob_backdoor\u001b[38;5;241m=\u001b[39mget_prob_backdoor_opt(G, df, k, {var:x_up}, target_column, condition, opt, row_indexes, theta)\n",
      "File \u001b[0;32m~/Desktop/cornell_repos/Hyper-Code/ranking_query/ranking_funcs.py:338\u001b[0m, in \u001b[0;36mget_ranking_query\u001b[0;34m(G, df, k, update_vars, target_column, condition, opt)\u001b[0m\n\u001b[1;32m    328\u001b[0m     \u001b[38;5;28;01mreturn\u001b[39;00m {key: \u001b[38;5;241m-\u001b[39mvalue \u001b[38;5;28;01mfor\u001b[39;00m key, value \u001b[38;5;129;01min\u001b[39;00m update_vars\u001b[38;5;241m.\u001b[39mitems()}\n\u001b[1;32m    330\u001b[0m options \u001b[38;5;241m=\u001b[39m {\n\u001b[1;32m    331\u001b[0m     \u001b[38;5;124m'\u001b[39m\u001b[38;5;124mfix\u001b[39m\u001b[38;5;124m'\u001b[39m: \u001b[38;5;28;01mlambda\u001b[39;00m: ranking_query(G, df, k, update_vars, target_column, condition),\n\u001b[1;32m    332\u001b[0m     \u001b[38;5;124m'\u001b[39m\u001b[38;5;124mmultiply_by\u001b[39m\u001b[38;5;124m'\u001b[39m: \u001b[38;5;28;01mlambda\u001b[39;00m: ranking_query_multi(G, df, k, update_vars, target_column, condition),\n\u001b[0;32m   (...)\u001b[0m\n\u001b[1;32m    335\u001b[0m     \u001b[38;5;124m'\u001b[39m\u001b[38;5;124msubs\u001b[39m\u001b[38;5;124m'\u001b[39m: \u001b[38;5;28;01mlambda\u001b[39;00m: ranking_query_add(G, df, k, negate_values(update_vars), target_column, condition)\n\u001b[1;32m    336\u001b[0m }\n\u001b[0;32m--> 338\u001b[0m \u001b[38;5;28;01mreturn\u001b[39;00m \u001b[43moptions\u001b[49m\u001b[38;5;241;43m.\u001b[39;49m\u001b[43mget\u001b[49m\u001b[43m(\u001b[49m\u001b[43mopt\u001b[49m\u001b[43m,\u001b[49m\u001b[43m \u001b[49m\u001b[38;5;28;43;01mlambda\u001b[39;49;00m\u001b[43m:\u001b[49m\u001b[43m \u001b[49m\u001b[38;5;124;43m'\u001b[39;49m\u001b[38;5;124;43mInvalid operator, operator must be one of \u001b[39;49m\u001b[38;5;124;43m\"\u001b[39;49m\u001b[38;5;124;43mfix\u001b[39;49m\u001b[38;5;124;43m\"\u001b[39;49m\u001b[38;5;124;43m, \u001b[39;49m\u001b[38;5;124;43m\"\u001b[39;49m\u001b[38;5;124;43mmultiply_by\u001b[39;49m\u001b[38;5;124;43m\"\u001b[39;49m\u001b[38;5;124;43m, \u001b[39;49m\u001b[38;5;124;43m\"\u001b[39;49m\u001b[38;5;124;43mdivided_by\u001b[39;49m\u001b[38;5;124;43m\"\u001b[39;49m\u001b[38;5;124;43m, \u001b[39;49m\u001b[38;5;124;43m\"\u001b[39;49m\u001b[38;5;124;43madd\u001b[39;49m\u001b[38;5;124;43m\"\u001b[39;49m\u001b[38;5;124;43m, and \u001b[39;49m\u001b[38;5;124;43m\"\u001b[39;49m\u001b[38;5;124;43msubs\u001b[39;49m\u001b[38;5;124;43m\"\u001b[39;49m\u001b[38;5;124;43m'\u001b[39;49m\u001b[43m)\u001b[49m\u001b[43m(\u001b[49m\u001b[43m)\u001b[49m\n",
      "File \u001b[0;32m~/Desktop/cornell_repos/Hyper-Code/ranking_query/ranking_funcs.py:334\u001b[0m, in \u001b[0;36mget_ranking_query.<locals>.<lambda>\u001b[0;34m()\u001b[0m\n\u001b[1;32m    327\u001b[0m \u001b[38;5;28;01mdef\u001b[39;00m \u001b[38;5;21mnegate_values\u001b[39m(update_vars):\n\u001b[1;32m    328\u001b[0m     \u001b[38;5;28;01mreturn\u001b[39;00m {key: \u001b[38;5;241m-\u001b[39mvalue \u001b[38;5;28;01mfor\u001b[39;00m key, value \u001b[38;5;129;01min\u001b[39;00m update_vars\u001b[38;5;241m.\u001b[39mitems()}\n\u001b[1;32m    330\u001b[0m options \u001b[38;5;241m=\u001b[39m {\n\u001b[1;32m    331\u001b[0m     \u001b[38;5;124m'\u001b[39m\u001b[38;5;124mfix\u001b[39m\u001b[38;5;124m'\u001b[39m: \u001b[38;5;28;01mlambda\u001b[39;00m: ranking_query(G, df, k, update_vars, target_column, condition),\n\u001b[1;32m    332\u001b[0m     \u001b[38;5;124m'\u001b[39m\u001b[38;5;124mmultiply_by\u001b[39m\u001b[38;5;124m'\u001b[39m: \u001b[38;5;28;01mlambda\u001b[39;00m: ranking_query_multi(G, df, k, update_vars, target_column, condition),\n\u001b[1;32m    333\u001b[0m     \u001b[38;5;124m'\u001b[39m\u001b[38;5;124mdivided_by\u001b[39m\u001b[38;5;124m'\u001b[39m: \u001b[38;5;28;01mlambda\u001b[39;00m: ranking_query_multi(G, df, k, divide_values(update_vars), target_column, condition),\n\u001b[0;32m--> 334\u001b[0m     \u001b[38;5;124m'\u001b[39m\u001b[38;5;124madd\u001b[39m\u001b[38;5;124m'\u001b[39m: \u001b[38;5;28;01mlambda\u001b[39;00m: \u001b[43mranking_query_add\u001b[49m\u001b[43m(\u001b[49m\u001b[43mG\u001b[49m\u001b[43m,\u001b[49m\u001b[43m \u001b[49m\u001b[43mdf\u001b[49m\u001b[43m,\u001b[49m\u001b[43m \u001b[49m\u001b[43mk\u001b[49m\u001b[43m,\u001b[49m\u001b[43m \u001b[49m\u001b[43mupdate_vars\u001b[49m\u001b[43m,\u001b[49m\u001b[43m \u001b[49m\u001b[43mtarget_column\u001b[49m\u001b[43m,\u001b[49m\u001b[43m \u001b[49m\u001b[43mcondition\u001b[49m\u001b[43m)\u001b[49m,\n\u001b[1;32m    335\u001b[0m     \u001b[38;5;124m'\u001b[39m\u001b[38;5;124msubs\u001b[39m\u001b[38;5;124m'\u001b[39m: \u001b[38;5;28;01mlambda\u001b[39;00m: ranking_query_add(G, df, k, negate_values(update_vars), target_column, condition)\n\u001b[1;32m    336\u001b[0m }\n\u001b[1;32m    338\u001b[0m \u001b[38;5;28;01mreturn\u001b[39;00m options\u001b[38;5;241m.\u001b[39mget(opt, \u001b[38;5;28;01mlambda\u001b[39;00m: \u001b[38;5;124m'\u001b[39m\u001b[38;5;124mInvalid operator, operator must be one of \u001b[39m\u001b[38;5;124m\"\u001b[39m\u001b[38;5;124mfix\u001b[39m\u001b[38;5;124m\"\u001b[39m\u001b[38;5;124m, \u001b[39m\u001b[38;5;124m\"\u001b[39m\u001b[38;5;124mmultiply_by\u001b[39m\u001b[38;5;124m\"\u001b[39m\u001b[38;5;124m, \u001b[39m\u001b[38;5;124m\"\u001b[39m\u001b[38;5;124mdivided_by\u001b[39m\u001b[38;5;124m\"\u001b[39m\u001b[38;5;124m, \u001b[39m\u001b[38;5;124m\"\u001b[39m\u001b[38;5;124madd\u001b[39m\u001b[38;5;124m\"\u001b[39m\u001b[38;5;124m, and \u001b[39m\u001b[38;5;124m\"\u001b[39m\u001b[38;5;124msubs\u001b[39m\u001b[38;5;124m\"\u001b[39m\u001b[38;5;124m'\u001b[39m)()\n",
      "File \u001b[0;32m~/Desktop/cornell_repos/Hyper-Code/ranking_query/ranking_funcs.py:315\u001b[0m, in \u001b[0;36mranking_query_add\u001b[0;34m(G, df, k, update_vars, target_column, condition)\u001b[0m\n\u001b[1;32m    313\u001b[0m min_top_k \u001b[38;5;241m=\u001b[39m \u001b[38;5;28mmin\u001b[39m(top_k_values)\n\u001b[1;32m    314\u001b[0m \u001b[38;5;28;01mif\u001b[39;00m row[target_column] \u001b[38;5;241m>\u001b[39m min_top_k:\n\u001b[0;32m--> 315\u001b[0m     min_index \u001b[38;5;241m=\u001b[39m \u001b[43mtop_k_values\u001b[49m\u001b[38;5;241;43m.\u001b[39;49m\u001b[43mindex\u001b[49m\u001b[43m(\u001b[49m\u001b[43mmin_top_k\u001b[49m\u001b[43m)\u001b[49m\n\u001b[1;32m    316\u001b[0m     top_k_values[min_index] \u001b[38;5;241m=\u001b[39m row[target_column]\n\u001b[1;32m    317\u001b[0m     top_k_indices[min_index] \u001b[38;5;241m=\u001b[39m index\n",
      "\u001b[0;31mKeyboardInterrupt\u001b[0m: "
     ]
    }
   ],
   "source": [
    "row_indexes=[5571, 3782, 4172, 3988, 9819]\n",
    "greedy_backdoor=Comp_Greedy_Algo_backdoor(row_indexes,new_G, df, 5, 'averageRating',var,0, {'seasonNumber':0},1, opt=\"add\",force=0.5)"
   ]
  },
  {
   "cell_type": "code",
   "execution_count": null,
   "id": "75097ccf-d618-474b-9a69-4de72ad8aa73",
   "metadata": {},
   "outputs": [],
   "source": []
  }
 ],
 "metadata": {
  "kernelspec": {
   "display_name": "Python 3 (ipykernel)",
   "language": "python",
   "name": "python3"
  },
  "language_info": {
   "codemirror_mode": {
    "name": "ipython",
    "version": 3
   },
   "file_extension": ".py",
   "mimetype": "text/x-python",
   "name": "python",
   "nbconvert_exporter": "python",
   "pygments_lexer": "ipython3",
   "version": "3.10.4"
  }
 },
 "nbformat": 4,
 "nbformat_minor": 5
}
