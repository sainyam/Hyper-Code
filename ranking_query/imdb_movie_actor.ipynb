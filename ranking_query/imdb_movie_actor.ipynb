{
 "cells": [
  {
   "cell_type": "code",
   "execution_count": 1,
   "id": "d1a252fb-0d6b-4971-a5a8-4569a691f994",
   "metadata": {},
   "outputs": [],
   "source": [
    "import pandas as pd\n",
    "import numpy as np\n",
    "import statsmodels.api as sm\n",
    "import matplotlib.pyplot as plt\n",
    "import networkx as nx\n",
    "import itertools\n",
    "import math as m\n",
    "from collections import defaultdict"
   ]
  },
  {
   "cell_type": "code",
   "execution_count": 4,
   "id": "d1352328-8ef9-4d2e-a513-d534d2071d26",
   "metadata": {},
   "outputs": [
    {
     "name": "stderr",
     "output_type": "stream",
     "text": [
      "/Users/wangning/opt/anaconda3/envs/cpsc330/lib/python3.10/site-packages/tqdm/auto.py:22: TqdmWarning: IProgress not found. Please update jupyter and ipywidgets. See https://ipywidgets.readthedocs.io/en/stable/user_install.html\n",
      "  from .autonotebook import tqdm as notebook_tqdm\n"
     ]
    }
   ],
   "source": [
    "from ranking_funcs import read_imdb_actor_data,Comp_Greedy_Algo_backdoor,get_prob_backdoor_opt,rec_row_prob_back,backdoor_adjustment_opt,find_backdoor_sets_opt,Greedy_Algo,get_most_probable_elements,get_cgm,get_prob_backdoor_opt,get_probs,get_prob_backdoor,filter_prob_df_grouped,read_data,get_ranking_query_prob_grouped,get_stable_ranking_opt,get_ranking_query,get_ranking_query_prob,get_test_revert_ranking_rec,get_new_G,filter_prob_df,calc_prob,base_line"
   ]
  },
  {
   "cell_type": "code",
   "execution_count": 2,
   "id": "7ed69fba-47d1-4cd0-b4a0-84f25a181720",
   "metadata": {},
   "outputs": [
    {
     "name": "stdout",
     "output_type": "stream",
     "text": [
      "Current Working Directory: /Users/wangning/Desktop/cornell_repos/Hyper-Code/ranking_query/ranking_data_sets\n"
     ]
    }
   ],
   "source": [
    "import os\n",
    "\n",
    "# Get the current working directory\n",
    "current_working_directory = os.getcwd()\n",
    "\n",
    "# Print the current working directory\n",
    "print(\"Current Working Directory:\", current_working_directory)\n"
   ]
  },
  {
   "cell_type": "code",
   "execution_count": 3,
   "id": "719a04af-2bf3-4d58-b9f4-266cb588dc1c",
   "metadata": {},
   "outputs": [],
   "source": [
    "desired_path = '/Users/wangning/Desktop/cornell_repos/Hyper-Code/ranking_query'  \n",
    "os.chdir(desired_path)"
   ]
  },
  {
   "cell_type": "code",
   "execution_count": 5,
   "id": "62cb4ce8-0bdd-49b4-9798-2ee5c09f8c60",
   "metadata": {},
   "outputs": [],
   "source": [
    "def read_imdb_movie_actor_data(path):\n",
    "    df = pd.read_csv(path)\n",
    "    df['averageRating'] = round(df['averageRating'], 0)\n",
    "\n",
    "    def runtime_category(runtime):\n",
    "        if runtime <= 120: return 0\n",
    "        elif runtime <= 150: return 1\n",
    "        else: return 2\n",
    "    df['runtimeMinutes'] = df['runtimeMinutes'].apply(runtime_category)\n",
    "\n",
    "    def votes_category(votes):\n",
    "        if votes <= 10000: return 0\n",
    "        elif votes <= 50000: return 1\n",
    "        elif votes <= 100000: return 2\n",
    "        else: return 3\n",
    "    df['numVotes'] = df['numVotes'].astype(int).apply(votes_category)\n",
    "    \n",
    "    def startYear_category(year):\n",
    "        if year <= 2000: return 0\n",
    "        elif year <= 2010: return 1\n",
    "        elif year <= 2020: return 2\n",
    "        else: return 3\n",
    "    df['startYear'] = df['startYear'].astype(int).apply(startYear_category)\n",
    "\n",
    "    name_map = {'Scarlett Johansson': 0,\n",
    "            'Emma Mackey': 1,\n",
    "            'Margot Robbie': 2,\n",
    "            'Johnny Depp': 3,\n",
    "            'Jason Momoa': 4,\n",
    "            'Rinko Kikuchi': 5,\n",
    "            'Ben Kingsley': 6,\n",
    "            'Om Puri': 7}\n",
    "    \n",
    "    df['primaryName'] = df['primaryName'].apply(lambda x: name_map.get(x, -1))\n",
    "\n",
    "    return df"
   ]
  },
  {
   "cell_type": "code",
   "execution_count": 6,
   "id": "1ebad6b1-f55d-4e7f-a4e2-93f2d287ec33",
   "metadata": {},
   "outputs": [
    {
     "data": {
      "text/html": [
       "<div>\n",
       "<style scoped>\n",
       "    .dataframe tbody tr th:only-of-type {\n",
       "        vertical-align: middle;\n",
       "    }\n",
       "\n",
       "    .dataframe tbody tr th {\n",
       "        vertical-align: top;\n",
       "    }\n",
       "\n",
       "    .dataframe thead th {\n",
       "        text-align: right;\n",
       "    }\n",
       "</style>\n",
       "<table border=\"1\" class=\"dataframe\">\n",
       "  <thead>\n",
       "    <tr style=\"text-align: right;\">\n",
       "      <th></th>\n",
       "      <th>nconst</th>\n",
       "      <th>primaryName</th>\n",
       "      <th>birthYear</th>\n",
       "      <th>deathYear</th>\n",
       "      <th>primaryProfession</th>\n",
       "      <th>knownForTitles</th>\n",
       "      <th>films_tv_participated</th>\n",
       "      <th>tconst_x</th>\n",
       "      <th>averageRating</th>\n",
       "      <th>numVotes</th>\n",
       "      <th>...</th>\n",
       "      <th>Documentary</th>\n",
       "      <th>Sport</th>\n",
       "      <th>Musical</th>\n",
       "      <th>Animation</th>\n",
       "      <th>Western</th>\n",
       "      <th>Mystery</th>\n",
       "      <th>History</th>\n",
       "      <th>Action</th>\n",
       "      <th>Adventure</th>\n",
       "      <th>War</th>\n",
       "    </tr>\n",
       "  </thead>\n",
       "  <tbody>\n",
       "    <tr>\n",
       "      <th>0</th>\n",
       "      <td>nm0000136</td>\n",
       "      <td>3</td>\n",
       "      <td>1963</td>\n",
       "      <td>\\N</td>\n",
       "      <td>actor,producer,soundtrack</td>\n",
       "      <td>tt0325980,tt0449088,tt0408236,tt0367594</td>\n",
       "      <td>tt0087800</td>\n",
       "      <td>tt0087800</td>\n",
       "      <td>7.0</td>\n",
       "      <td>3</td>\n",
       "      <td>...</td>\n",
       "      <td>0</td>\n",
       "      <td>0</td>\n",
       "      <td>0</td>\n",
       "      <td>0</td>\n",
       "      <td>0</td>\n",
       "      <td>0</td>\n",
       "      <td>0</td>\n",
       "      <td>0</td>\n",
       "      <td>0</td>\n",
       "      <td>0</td>\n",
       "    </tr>\n",
       "    <tr>\n",
       "      <th>1</th>\n",
       "      <td>nm0000136</td>\n",
       "      <td>3</td>\n",
       "      <td>1963</td>\n",
       "      <td>\\N</td>\n",
       "      <td>actor,producer,soundtrack</td>\n",
       "      <td>tt0325980,tt0449088,tt0408236,tt0367594</td>\n",
       "      <td>tt0089839</td>\n",
       "      <td>tt0089839</td>\n",
       "      <td>5.0</td>\n",
       "      <td>0</td>\n",
       "      <td>...</td>\n",
       "      <td>0</td>\n",
       "      <td>0</td>\n",
       "      <td>0</td>\n",
       "      <td>0</td>\n",
       "      <td>0</td>\n",
       "      <td>0</td>\n",
       "      <td>0</td>\n",
       "      <td>0</td>\n",
       "      <td>0</td>\n",
       "      <td>0</td>\n",
       "    </tr>\n",
       "    <tr>\n",
       "      <th>2</th>\n",
       "      <td>nm0000136</td>\n",
       "      <td>3</td>\n",
       "      <td>1963</td>\n",
       "      <td>\\N</td>\n",
       "      <td>actor,producer,soundtrack</td>\n",
       "      <td>tt0325980,tt0449088,tt0408236,tt0367594</td>\n",
       "      <td>tt0099329</td>\n",
       "      <td>tt0099329</td>\n",
       "      <td>6.0</td>\n",
       "      <td>2</td>\n",
       "      <td>...</td>\n",
       "      <td>0</td>\n",
       "      <td>0</td>\n",
       "      <td>1</td>\n",
       "      <td>0</td>\n",
       "      <td>0</td>\n",
       "      <td>0</td>\n",
       "      <td>0</td>\n",
       "      <td>0</td>\n",
       "      <td>0</td>\n",
       "      <td>0</td>\n",
       "    </tr>\n",
       "    <tr>\n",
       "      <th>3</th>\n",
       "      <td>nm0000136</td>\n",
       "      <td>3</td>\n",
       "      <td>1963</td>\n",
       "      <td>\\N</td>\n",
       "      <td>actor,producer,soundtrack</td>\n",
       "      <td>tt0325980,tt0449088,tt0408236,tt0367594</td>\n",
       "      <td>tt0099487</td>\n",
       "      <td>tt0099487</td>\n",
       "      <td>8.0</td>\n",
       "      <td>3</td>\n",
       "      <td>...</td>\n",
       "      <td>0</td>\n",
       "      <td>0</td>\n",
       "      <td>0</td>\n",
       "      <td>0</td>\n",
       "      <td>0</td>\n",
       "      <td>0</td>\n",
       "      <td>0</td>\n",
       "      <td>0</td>\n",
       "      <td>0</td>\n",
       "      <td>0</td>\n",
       "    </tr>\n",
       "    <tr>\n",
       "      <th>4</th>\n",
       "      <td>nm0000136</td>\n",
       "      <td>3</td>\n",
       "      <td>1963</td>\n",
       "      <td>\\N</td>\n",
       "      <td>actor,producer,soundtrack</td>\n",
       "      <td>tt0325980,tt0449088,tt0408236,tt0367594</td>\n",
       "      <td>tt0106307</td>\n",
       "      <td>tt0106307</td>\n",
       "      <td>7.0</td>\n",
       "      <td>1</td>\n",
       "      <td>...</td>\n",
       "      <td>0</td>\n",
       "      <td>0</td>\n",
       "      <td>0</td>\n",
       "      <td>0</td>\n",
       "      <td>0</td>\n",
       "      <td>0</td>\n",
       "      <td>0</td>\n",
       "      <td>0</td>\n",
       "      <td>0</td>\n",
       "      <td>0</td>\n",
       "    </tr>\n",
       "  </tbody>\n",
       "</table>\n",
       "<p>5 rows × 40 columns</p>\n",
       "</div>"
      ],
      "text/plain": [
       "      nconst  primaryName  birthYear deathYear          primaryProfession  \\\n",
       "0  nm0000136            3       1963        \\N  actor,producer,soundtrack   \n",
       "1  nm0000136            3       1963        \\N  actor,producer,soundtrack   \n",
       "2  nm0000136            3       1963        \\N  actor,producer,soundtrack   \n",
       "3  nm0000136            3       1963        \\N  actor,producer,soundtrack   \n",
       "4  nm0000136            3       1963        \\N  actor,producer,soundtrack   \n",
       "\n",
       "                            knownForTitles films_tv_participated   tconst_x  \\\n",
       "0  tt0325980,tt0449088,tt0408236,tt0367594             tt0087800  tt0087800   \n",
       "1  tt0325980,tt0449088,tt0408236,tt0367594             tt0089839  tt0089839   \n",
       "2  tt0325980,tt0449088,tt0408236,tt0367594             tt0099329  tt0099329   \n",
       "3  tt0325980,tt0449088,tt0408236,tt0367594             tt0099487  tt0099487   \n",
       "4  tt0325980,tt0449088,tt0408236,tt0367594             tt0106307  tt0106307   \n",
       "\n",
       "   averageRating  numVotes  ... Documentary Sport Musical Animation  Western  \\\n",
       "0            7.0         3  ...           0     0       0         0        0   \n",
       "1            5.0         0  ...           0     0       0         0        0   \n",
       "2            6.0         2  ...           0     0       1         0        0   \n",
       "3            8.0         3  ...           0     0       0         0        0   \n",
       "4            7.0         1  ...           0     0       0         0        0   \n",
       "\n",
       "   Mystery History  Action  Adventure  War  \n",
       "0        0       0       0          0    0  \n",
       "1        0       0       0          0    0  \n",
       "2        0       0       0          0    0  \n",
       "3        0       0       0          0    0  \n",
       "4        0       0       0          0    0  \n",
       "\n",
       "[5 rows x 40 columns]"
      ]
     },
     "execution_count": 6,
     "metadata": {},
     "output_type": "execute_result"
    }
   ],
   "source": [
    "df=read_imdb_movie_actor_data('ranking_data_sets/imdb_movie_stars.csv')\n",
    "df.head()"
   ]
  },
  {
   "cell_type": "code",
   "execution_count": 11,
   "id": "67516f4a-d48b-411a-8582-e1ced22680fa",
   "metadata": {},
   "outputs": [
    {
     "name": "stdout",
     "output_type": "stream",
     "text": [
      "<class 'pandas.core.frame.DataFrame'>\n",
      "RangeIndex: 337 entries, 0 to 336\n",
      "Data columns (total 40 columns):\n",
      " #   Column                 Non-Null Count  Dtype  \n",
      "---  ------                 --------------  -----  \n",
      " 0   nconst                 337 non-null    object \n",
      " 1   primaryName            337 non-null    int64  \n",
      " 2   birthYear              337 non-null    int64  \n",
      " 3   deathYear              337 non-null    object \n",
      " 4   primaryProfession      337 non-null    object \n",
      " 5   knownForTitles         337 non-null    object \n",
      " 6   films_tv_participated  337 non-null    object \n",
      " 7   tconst_x               337 non-null    object \n",
      " 8   averageRating          337 non-null    float64\n",
      " 9   numVotes               337 non-null    int64  \n",
      " 10  tconst_y               337 non-null    object \n",
      " 11  titleType              337 non-null    object \n",
      " 12  primaryTitle           337 non-null    object \n",
      " 13  originalTitle          337 non-null    object \n",
      " 14  isAdult                337 non-null    int64  \n",
      " 15  startYear              337 non-null    int64  \n",
      " 16  endYear                337 non-null    object \n",
      " 17  runtimeMinutes         337 non-null    int64  \n",
      " 18  Biography              337 non-null    int64  \n",
      " 19  Horror                 337 non-null    int64  \n",
      " 20  Music                  337 non-null    int64  \n",
      " 21  Thriller               337 non-null    int64  \n",
      " 22  Family                 337 non-null    int64  \n",
      " 23  Drama                  337 non-null    int64  \n",
      " 24  \\N                     337 non-null    int64  \n",
      " 25  Romance                337 non-null    int64  \n",
      " 26  Comedy                 337 non-null    int64  \n",
      " 27  Fantasy                337 non-null    int64  \n",
      " 28  Sci-Fi                 337 non-null    int64  \n",
      " 29  Crime                  337 non-null    int64  \n",
      " 30  Documentary            337 non-null    int64  \n",
      " 31  Sport                  337 non-null    int64  \n",
      " 32  Musical                337 non-null    int64  \n",
      " 33  Animation              337 non-null    int64  \n",
      " 34  Western                337 non-null    int64  \n",
      " 35  Mystery                337 non-null    int64  \n",
      " 36  History                337 non-null    int64  \n",
      " 37  Action                 337 non-null    int64  \n",
      " 38  Adventure              337 non-null    int64  \n",
      " 39  War                    337 non-null    int64  \n",
      "dtypes: float64(1), int64(28), object(11)\n",
      "memory usage: 105.4+ KB\n"
     ]
    }
   ],
   "source": [
    "df.info()"
   ]
  },
  {
   "cell_type": "markdown",
   "id": "41f59d7d-1190-43f4-8e80-4b97999e353e",
   "metadata": {},
   "source": [
    "primaryName (actor's name): A well-known actor may influence both the averageRating and numVotes a movie receives due to their popularity. They might also have a preference or typecasting for certain genres (Comedy, Horror, Fantasy, Action), which could influence the types of movies they act in.\n",
    "\n",
    "averageRating: This might be influenced by the primaryName, numVotes, and the startYear (as movies from different eras may be rated differently). The genres of the movie could also affect its rating.\n",
    "\n",
    "numVotes: This is likely influenced by the primaryName and the averageRating (as higher-rated movies may attract more voters). The startYear could also affect the number of votes due to the changing population of moviegoers and the ways movies are rated over time.\n",
    "\n",
    "startYear: This reflects the era in which the movie was released. It can influence the runtimeMinutes (as movie lengths can vary by era), and it could also influence the averageRating and numVotes due to changes in the audience and rating systems over time.\n",
    "\n",
    "runtimeMinutes: This might be a factor in the averageRating, as the length of a movie can affect audience satisfaction. It might also be associated with specific genres since some genres, like Fantasy or Action, might typically have longer runtimes.\n",
    "\n",
    "Comedy, Horror, Fantasy, Action (genres): The presence of these genres could be a result of the primaryName if the actor tends to be cast in certain types of movies. These genres might also affect the averageRating since audience preferences can vary by genre."
   ]
  },
  {
   "cell_type": "code",
   "execution_count": 108,
   "id": "19bbbb4e-250b-4503-8067-13d837e89522",
   "metadata": {},
   "outputs": [],
   "source": [
    "import networkx as nx\n",
    "import matplotlib.pyplot as plt\n",
    "\n",
    "G = nx.DiGraph()\n",
    "\n",
    "nodes = [\"averageRating\", \"numVotes\", \"runtimeMinutes\", \"primaryName\", \"Comedy\", \"Horror\", \"Fantasy\", \"Action\", \"startYear\"]\n",
    "G.add_nodes_from(nodes)\n",
    "\n",
    "\n",
    "edges = [\n",
    "    (\"primaryName\", \"averageRating\"), \n",
    "    (\"primaryName\", \"numVotes\"),\n",
    "    (\"primaryName\", \"Comedy\"),\n",
    "    (\"primaryName\", \"Horror\"),\n",
    "    (\"primaryName\", \"Fantasy\"),\n",
    "    (\"primaryName\", \"Action\"),\n",
    "    (\"numVotes\", \"averageRating\"),\n",
    "    (\"runtimeMinutes\", \"averageRating\"),\n",
    "    (\"Comedy\", \"averageRating\"),\n",
    "    (\"Horror\", \"averageRating\"),\n",
    "    (\"Fantasy\", \"averageRating\"),\n",
    "    (\"Action\", \"averageRating\"),\n",
    "    (\"startYear\", \"averageRating\"),\n",
    "    (\"startYear\", \"numVotes\")\n",
    "]\n",
    "G.add_edges_from(edges)\n",
    "\n",
    "\n",
    "layout = nx.circular_layout(G)\n",
    "\n",
    "nx.draw(G, with_labels=True, node_color='skyblue', node_size=2500, edge_color='gray', arrowsize=20, pos=layout)\n",
    "\n",
    "\n",
    "plt.show()"
   ]
  },
  {
   "cell_type": "code",
   "execution_count": 109,
   "id": "14420385-1162-431b-aebc-ea624a8b3a56",
   "metadata": {},
   "outputs": [],
   "source": [
    "new_G=get_new_G(G,df)"
   ]
  },
  {
   "cell_type": "code",
   "execution_count": 135,
   "id": "3dde5ca9-0aaf-440a-bf69-6961bc861634",
   "metadata": {},
   "outputs": [],
   "source": [
    "pos = nx.spring_layout(new_G)\n",
    "nx.draw(new_G, pos, with_labels=True, node_size=2000, node_color=\"skyblue\", \n",
    "        edge_color=\"grey\", width=1)\n",
    "\n",
    "edge_labels = {(u, v): f\"{data['weight']:.2f}\" for u, v, data in new_G.edges(data=True)}\n",
    "nx.draw_networkx_edge_labels(new_G, pos, edge_labels=edge_labels)\n",
    "plt.show()"
   ]
  },
  {
   "cell_type": "code",
   "execution_count": 133,
   "id": "59410314-da7e-44db-9083-aee8209f5d14",
   "metadata": {},
   "outputs": [],
   "source": [
    "def get_new_G_combined(G, df):\n",
    "    \"\"\"\n",
    "    G: the causal graph (networkx DiGraph)\n",
    "    df: the dataframe\n",
    "    \"\"\"\n",
    "    df = df.replace([np.inf, -np.inf], np.nan).dropna()\n",
    "    new_G = nx.DiGraph()\n",
    "\n",
    "    for node in G.nodes():\n",
    "        predecessors = list(G.predecessors(node))\n",
    "\n",
    "        if predecessors:\n",
    "            X = sm.add_constant(df[predecessors])\n",
    "            y = df[node]\n",
    "\n",
    "            # Fit the regression model\n",
    "            model = sm.OLS(y, X).fit()\n",
    "\n",
    "            for pred in predecessors:\n",
    "                weight = model.params[pred]\n",
    "                new_G.add_edge(pred, node, weight=weight)\n",
    "\n",
    "    return new_G"
   ]
  },
  {
   "cell_type": "code",
   "execution_count": 134,
   "id": "4cce6f69-f9f5-4711-9a6c-5ab4412573eb",
   "metadata": {},
   "outputs": [],
   "source": [
    "new_combined_G=get_new_G_combined(G,df)"
   ]
  },
  {
   "cell_type": "code",
   "execution_count": 136,
   "id": "c7095d12-c0c1-4f45-a766-87f81a7cd31b",
   "metadata": {},
   "outputs": [],
   "source": [
    "pos = nx.spring_layout(new_combined_G)\n",
    "nx.draw(new_combined_G, pos, with_labels=True, node_size=2000, node_color=\"skyblue\", \n",
    "        edge_color=\"grey\", width=1)\n",
    "\n",
    "edge_labels = {(u, v): f\"{data['weight']:.2f}\" for u, v, data in new_combined_G.edges(data=True)}\n",
    "nx.draw_networkx_edge_labels(new_combined_G, pos, edge_labels=edge_labels)\n",
    "plt.show()"
   ]
  },
  {
   "cell_type": "code",
   "execution_count": 110,
   "id": "d688eb3a-7fcd-4253-84db-4bd01ccf73e3",
   "metadata": {},
   "outputs": [],
   "source": [
    "df.sort_values(by='averageRating',ascending=False)[['primaryTitle','primaryName','averageRating']]"
   ]
  },
  {
   "cell_type": "code",
   "execution_count": 111,
   "id": "bd8c5403-e283-43f2-86d6-2bc0febe43b9",
   "metadata": {},
   "outputs": [],
   "source": [
    "get_ranking_query(new_G, df, len(df), {'primaryName':5}, 'averageRating', {'primaryTitle':'Ghost in the Shell'}, opt=\"fix\")[['primaryTitle','primaryName','averageRating']]"
   ]
  },
  {
   "cell_type": "code",
   "execution_count": 112,
   "id": "9b61c7fa-a2f3-40fc-b083-ec69eb1014f3",
   "metadata": {},
   "outputs": [],
   "source": [
    "get_ranking_query(new_G, df, len(df), {'primaryName':7}, 'averageRating', {'primaryTitle':'The House of the Spirits'}, opt=\"fix\")[['primaryTitle','primaryName','averageRating']]"
   ]
  },
  {
   "cell_type": "code",
   "execution_count": 138,
   "id": "5e4710e5-038a-43fe-8539-ff3688844d7a",
   "metadata": {},
   "outputs": [],
   "source": [
    "get_ranking_query(new_combined_G, df, len(df), {'primaryName':7}, 'averageRating', {'primaryTitle':'The House of the Spirits'}, opt=\"fix\")[['primaryTitle','primaryName','averageRating']]"
   ]
  },
  {
   "cell_type": "code",
   "execution_count": 14,
   "id": "5b0e34d8-f2b0-4855-a214-d8e7d55abeaa",
   "metadata": {},
   "outputs": [],
   "source": [
    "for n in nodes:\n",
    "    print((n,find_backdoor_sets_opt(G, \"averageRating\", n)))"
   ]
  },
  {
   "cell_type": "code",
   "execution_count": 113,
   "id": "1b0381d3-3e71-41aa-aa62-22a41dcd544f",
   "metadata": {},
   "outputs": [],
   "source": [
    "var=['numVotes']\n",
    "df_gr=Greedy_Algo(new_G, df, 5, 'averageRating',var,0, {'primaryName':6},100, opt=\"add\",force=2)\n",
    "df_gr"
   ]
  },
  {
   "cell_type": "code",
   "execution_count": 114,
   "id": "16b2cb6c-fcf2-444c-879b-fd28ac1be3f3",
   "metadata": {},
   "outputs": [],
   "source": [
    "row_indexes=[69, 103, 81, 56, 84]\n",
    "greedy_backdoor=Comp_Greedy_Algo_backdoor(row_indexes,new_G, df, 5, 'averageRating',var,1, {'primaryName':6} ,100, opt=\"add\",force=2)"
   ]
  },
  {
   "cell_type": "code",
   "execution_count": 115,
   "id": "b2aafda2-2434-4404-9dcd-948a9ba45b2e",
   "metadata": {},
   "outputs": [],
   "source": [
    "j=0\n",
    "for i in greedy_backdoor:\n",
    "    j+=i\n",
    "print(j)"
   ]
  },
  {
   "cell_type": "code",
   "execution_count": 118,
   "id": "1dcd3c6d-3d8f-4380-b09d-0b5fbeba8dc5",
   "metadata": {},
   "outputs": [],
   "source": [
    "0.016098/100"
   ]
  },
  {
   "cell_type": "code",
   "execution_count": 116,
   "id": "bce24827-9da6-43d8-9ffa-c0309f9de881",
   "metadata": {},
   "outputs": [],
   "source": [
    "row_indexes=[69, 103, 81, 56, 249]\n",
    "greedy_backdoor=Comp_Greedy_Algo_backdoor(row_indexes,new_G, df, 5, 'averageRating',var,1, {'primaryName':6} ,100, opt=\"add\",force=2)"
   ]
  },
  {
   "cell_type": "code",
   "execution_count": 117,
   "id": "d911a937-1bb2-437f-8848-d2861aca3b40",
   "metadata": {},
   "outputs": [],
   "source": [
    "j=0\n",
    "for i in greedy_backdoor:\n",
    "    j+=i\n",
    "print(j)"
   ]
  },
  {
   "cell_type": "code",
   "execution_count": 119,
   "id": "63d35ed1-9691-4c7f-b1f1-c1562789960a",
   "metadata": {},
   "outputs": [],
   "source": [
    "0.000008/100"
   ]
  },
  {
   "cell_type": "code",
   "execution_count": 30,
   "id": "8522a2d2-1d4c-4fe7-bd24-821249f1d12e",
   "metadata": {},
   "outputs": [],
   "source": [
    "# if the dataframe only contain the credited dataframe\n",
    "# row_indexes=[5, 4, 27, 0, 12]\n",
    "# greedy_backdoor=Comp_Greedy_Algo_backdoor(row_indexes,new_G, df, 5, 'averageRating',var,1, {'primaryName':6} ,100, opt=\"add\",force=2)"
   ]
  },
  {
   "cell_type": "code",
   "execution_count": 31,
   "id": "2522236a-d1eb-4e43-bce8-854b29b49fc4",
   "metadata": {},
   "outputs": [],
   "source": [
    "j=0\n",
    "for i in greedy_backdoor:\n",
    "    j+=i\n",
    "print(j)"
   ]
  },
  {
   "cell_type": "code",
   "execution_count": 32,
   "id": "bf8176a2-a6c8-4bf2-b345-3e44064e9f24",
   "metadata": {},
   "outputs": [],
   "source": [
    "0.002685/100"
   ]
  },
  {
   "cell_type": "code",
   "execution_count": 101,
   "id": "348394ba-88b7-4fdb-aebf-a9f03ea51ced",
   "metadata": {},
   "outputs": [],
   "source": [
    "# import matplotlib.pyplot as plt\n",
    "# # if the dataframe only contain the credited dataframe\n",
    "# data1 = {'backdoor': 2.685e-05, 'real': 0.1}\n",
    "# data2 = {'backdoor': 0.0004, 'real': 0.1}\n",
    "# data3 = {'backdoor': 0.98, 'real': 0.98}\n",
    "# data = [data1, data2, data3]\n",
    "\n",
    "# types = ['backdoor', 'real']\n",
    "# colors = {'backdoor': 'green', 'real': 'blue'}\n",
    "\n",
    "# titles = [\n",
    "#     \"Ranking Index for 5, 4, 27, 0, 12\",\n",
    "#     \"Ranking Index for 5, 4, 6, 27, 7\",\n",
    "#     \"Ranking Index for 5, 4, 6, 7, 8\"\n",
    "# ]\n",
    "\n",
    "\n",
    "# fig, axes = plt.subplots(1, 3, figsize=(15, 5)) \n",
    "\n",
    "# for i, d in enumerate(data):\n",
    "#     axes[i].bar(types, [d[t] for t in types], color=[colors[t] for t in types])\n",
    "#     axes[i].set_title(titles[i])\n",
    "#     axes[i].set_xlabel('Type')\n",
    "#     axes[i].set_xticks(types)\n",
    "#     axes[i].set_ylabel('log scaled Probability')\n",
    "#     axes[i].set_yscale('log')\n",
    "#     max_val = max(d.values())\n",
    "#     axes[i].set_ylim(0, max_val)  \n",
    "\n",
    "# plt.tight_layout()\n",
    "# plt.show()\n",
    "\n"
   ]
  },
  {
   "cell_type": "code",
   "execution_count": 125,
   "id": "2f8e67a4-4b05-4e48-be4a-fdd51f7fc108",
   "metadata": {},
   "outputs": [],
   "source": [
    "baseline_val=base_line(df,5)**5"
   ]
  },
  {
   "cell_type": "code",
   "execution_count": 127,
   "id": "1da64e55-812d-4021-ac57-c2749f8f0a8c",
   "metadata": {},
   "outputs": [],
   "source": [
    "import matplotlib.pyplot as plt\n",
    "\n",
    "data1 = {'backdoor': 0.00016098, 'baseline':baseline_val,'real': 0.99}\n",
    "data2 = {'backdoor': 8e-08,  'baseline':baseline_val,'real': 0.01}\n",
    "\n",
    "data=[data1, data2]\n",
    "\n",
    "types = ['backdoor','baseline','real']\n",
    "colors = {'backdoor': 'green', 'baseline': 'yellow','real': 'blue'}\n",
    "\n",
    "titles = [\n",
    "    \"Ranking Index for 69, 103, 81, 56, 84\",\n",
    "    \"Ranking Index for 69, 103, 81, 56, 249\"\n",
    "]\n",
    "\n",
    "\n",
    "fig, axes = plt.subplots(1, 2, figsize=(15, 5)) \n",
    "\n",
    "for i, d in enumerate(data):\n",
    "    axes[i].bar(types, [d[t] for t in types], color=[colors[t] for t in types])\n",
    "    axes[i].set_title(titles[i])\n",
    "    axes[i].set_xlabel('Type')\n",
    "    axes[i].set_xticks(types)\n",
    "    axes[i].set_ylabel('log scaled Probability')\n",
    "    axes[i].set_yscale('log')\n",
    "    max_val = max(d.values())\n",
    "    axes[i].set_ylim(0, max_val)  \n",
    "\n",
    "plt.tight_layout()\n",
    "plt.show()"
   ]
  },
  {
   "cell_type": "code",
   "execution_count": 55,
   "id": "e7278007-8250-4181-99b4-c343bf28b057",
   "metadata": {},
   "outputs": [],
   "source": [
    "import time"
   ]
  },
  {
   "cell_type": "code",
   "execution_count": 57,
   "id": "070b4eaa-b676-41e6-84a3-8ac9308146d0",
   "metadata": {},
   "outputs": [],
   "source": [
    "# # if the dataframe only contain the credited dataframe\n",
    "# iter_times=[10,50,100,150,200,250,300,350]\n",
    "# var=['numVotes']\n",
    "# time_greedy_algo=[]\n",
    "\n",
    "# for i in iter_times:\n",
    "#     start_time = time.time()\n",
    "#     df_gr=Greedy_Algo(new_G, df, 5, 'averageRating',var,0, {'primaryName':6},i, opt=\"add\",force=2)\n",
    "#     end_time = time.time()\n",
    "#     time_greedy_algo.append(end_time - start_time)\n",
    "# time_greedy_algo "
   ]
  },
  {
   "cell_type": "code",
   "execution_count": 58,
   "id": "4eb266d0-65ca-42c0-846c-930faacf7db4",
   "metadata": {},
   "outputs": [],
   "source": [
    "# # if the dataframe only contain the credited dataframe\n",
    "# time_greedy_backdoor=[]\n",
    "# row_indexes=[5, 4, 6, 7, 8]\n",
    "\n",
    "# for i in iter_times:\n",
    "#     start_time = time.time()\n",
    "#     greedy_backdoor=Comp_Greedy_Algo_backdoor(row_indexes,new_G, df, 5, 'averageRating',var,1, {'primaryName':6} ,i, opt=\"add\",force=2)\n",
    "#     end_time = time.time()\n",
    "#     time_greedy_backdoor.append(end_time - start_time)\n",
    "    \n",
    "# time_greedy_backdoor "
   ]
  },
  {
   "cell_type": "code",
   "execution_count": 60,
   "id": "f81451fe-b267-414b-b38e-a293d4d8a36e",
   "metadata": {},
   "outputs": [],
   "source": [
    "# base_line(df,5)**5"
   ]
  },
  {
   "cell_type": "code",
   "execution_count": 71,
   "id": "6b4d51d3-2f45-4260-8f32-3dbf872acec2",
   "metadata": {},
   "outputs": [],
   "source": [
    "# # if the dataframe only contain the credited dataframe\n",
    "# fig, axes = plt.subplots(1, 2, figsize=(12, 5))  \n",
    "\n",
    "# axes[0].scatter(x=iter_times, y=time_greedy_backdoor, color='blue')\n",
    "# axes[0].set_title('Greedy Algorithm for Backdoor')\n",
    "# axes[0].set_xlabel('Iteration Times')\n",
    "# axes[0].set_ylabel('Time (seconds)')\n",
    "\n",
    "# axes[1].scatter(x=iter_times, y=time_greedy_algo, color='green')\n",
    "# axes[1].set_title('Greedy Algorithm')\n",
    "# axes[1].set_xlabel('Iteration Times')\n",
    "# axes[1].set_ylabel('Time (seconds)')\n",
    "\n",
    "# plt.tight_layout()\n",
    "# plt.show()"
   ]
  },
  {
   "cell_type": "code",
   "execution_count": 78,
   "id": "7f294061-8dae-4783-bdeb-e7ca64ab6010",
   "metadata": {},
   "outputs": [],
   "source": [
    "def k_range_backdoor(G, df, k, update_vars, target_column, condition, opt, row_indexes,end_k):\n",
    "    back_result=[]\n",
    "    for z in range(k,end_k+1):\n",
    "        updated_df=get_ranking_query(G, df, len(df), update_vars, target_column, condition, opt)\n",
    "        theta=updated_df[target_column].iloc[z-1]\n",
    "        back_result.append(get_prob_backdoor_opt(G, df, z, update_vars,\n",
    "                                                 target_column, condition, opt, row_indexes, theta))\n",
    "    return back_result"
   ]
  },
  {
   "cell_type": "code",
   "execution_count": 80,
   "id": "63898e35-5376-40e5-93e6-db24984646db",
   "metadata": {},
   "outputs": [],
   "source": [
    "# # if the dataframe only contain the credited dataframe\n",
    "# k_range_backdoor_val=k_range_backdoor(new_G, df, 2, {'numVotes':3}, 'averageRating', {'primaryName':2}, 'fix', [27],34)"
   ]
  },
  {
   "cell_type": "code",
   "execution_count": 99,
   "id": "313c6931-d927-409a-abc8-cff96a9ae44a",
   "metadata": {},
   "outputs": [],
   "source": [
    "# # if the dataframe only contain the credited dataframe\n",
    "# x_values = range(2, 35)    \n",
    "# plt.figure(figsize=(6, 5))\n",
    "# plt.plot(x_values, k_range_backdoor_val)\n",
    "# plt.xlabel('top K range')\n",
    "# plt.ylabel('probility')\n",
    "# plt.show()"
   ]
  },
  {
   "cell_type": "code",
   "execution_count": 91,
   "id": "0114c3ba-3d30-4c8e-a7f0-3afae84a3f57",
   "metadata": {},
   "outputs": [],
   "source": [
    "import pandas as pd\n",
    "import numpy as np\n",
    "from sklearn.model_selection import KFold\n",
    "\n",
    "def data_size_backdoor(G, df, k, update_vars, target_column, condition, opt, row_indexes, n_splits, random_state):\n",
    "    kf = KFold(n_splits=n_splits, shuffle=True, random_state=random_state)\n",
    "    df_dropped = df.drop(row_indexes)\n",
    "    \n",
    "    folds = []\n",
    "    for _, test_index in kf.split(df_dropped):\n",
    "        fold_data = df_dropped.iloc[test_index]\n",
    "        folds.append(fold_data)\n",
    "    \n",
    "    selected_rows = df.loc[row_indexes]\n",
    "\n",
    "    data = pd.concat([selected_rows, folds[0]], axis=0)\n",
    "    \n",
    "    back_result = []\n",
    "    back_result_len = []\n",
    "    for i in range(1, len(folds)):\n",
    "        data = pd.concat([data, folds[i]], axis=0)\n",
    "        \n",
    "        if condition and not set(condition.keys()).issubset(data.columns):\n",
    "            update_vars = None\n",
    "        \n",
    "        updated_df=get_ranking_query(G, data, len(data), update_vars, target_column, condition, opt).sort_values(by=target_column,ascending=False)\n",
    "        theta=updated_df[target_column].iloc[k-1]\n",
    "        back_result_len.append(len(updated_df))\n",
    "        back_result.append(get_prob_backdoor_opt(G, data, k, update_vars,\n",
    "                                                 target_column, condition, opt, row_indexes, theta))\n",
    "        \n",
    "    return back_result_len,back_result"
   ]
  },
  {
   "cell_type": "code",
   "execution_count": 93,
   "id": "cda80bbf-a8c9-40ab-803d-d85b58aedd40",
   "metadata": {},
   "outputs": [],
   "source": [
    "# # if the dataframe only contain the credited dataframe\n",
    "# lenth,data_size_backdoor_val=data_size_backdoor(new_G, df, 5, {'numVotes':3}, 'averageRating', {'primaryName':2}, 'fix', [27],11,123)"
   ]
  },
  {
   "cell_type": "code",
   "execution_count": 100,
   "id": "e9c0aa68-6f9c-4228-81e4-7a379ea27ef7",
   "metadata": {},
   "outputs": [],
   "source": [
    "# # if the dataframe only contain the credited dataframe\n",
    "# plt.figure(figsize=(6, 5))\n",
    "# plt.plot(lenth, data_size_backdoor_val)\n",
    "# plt.xlabel('data size')\n",
    "# plt.ylabel('probility')\n",
    "# plt.show()\n"
   ]
  },
  {
   "cell_type": "code",
   "execution_count": null,
   "id": "70dfef2d-34b8-442f-a7cb-f61ef4eefb11",
   "metadata": {},
   "outputs": [],
   "source": [
    "def predict_rank_backdoor(G, df, k, update_vars, target_column, condition, opt, row_indexes, theta):\n",
    "    updated_df = get_ranking_query(G, df, len(df), update_vars, target_column, condition, opt)\n",
    "    nodes = update_vars.keys()\n",
    "    results = []\n",
    "    \n",
    "    for node in nodes:\n",
    "        bd_sets = find_backdoor_sets_opt(G, target_column, node)\n",
    "        for bd_set in bd_sets:\n",
    "            dom_y = updated_df[target_column].unique()\n",
    "            dom_node = updated_df[node].unique()\n",
    "            for d_y in dom_y:\n",
    "                for d_n in dom_node:\n",
    "                    adjusted_prob = backdoor_adjustment_opt(updated_df, target_column, d_y, node, d_n, list(bd_set))\n",
    "                    results.append({\n",
    "                        'Y': target_column, \n",
    "                        'Y_value': d_y, \n",
    "                        'X': node, \n",
    "                        'X_value': d_n, \n",
    "                        'Z': ', '.join(bd_set), \n",
    "                        'prob': adjusted_prob\n",
    "                    })\n",
    "    prob_df = pd.DataFrame(results)\n",
    "    \n",
    "    total_prob = None\n",
    "    backdoor_path = None\n",
    "    row_groups = []\n",
    "    row_indexes=updated_df.index\n",
    "    for row_index in row_indexes:\n",
    "        row = updated_df.loc[row_index]                    \n",
    "        prob_groups = []\n",
    "        Z_groups = []\n",
    "        for z in prob_df['Z'].unique():\n",
    "            z_relevant_probs = prob_df[\n",
    "                (prob_df['Z'] == z) & \n",
    "                (prob_df['Y'] == target_column) & \n",
    "                (prob_df['Y_value'] >= theta)]\n",
    "            Z_groups.append(z)\n",
    "            prob_sum = 0\n",
    "            for x in prob_df['X'].unique():\n",
    "                if x in row.index:  \n",
    "                    x_value = row[x]\n",
    "                    prob_sum += z_relevant_probs[\n",
    "                        (z_relevant_probs['X'] == x) & \n",
    "                        (z_relevant_probs['X_value'] == x_value)]['prob'].sum()\n",
    "            prob_groups.append(prob_sum)\n",
    "            row_groups.append(row_index)\n",
    "\n",
    "        row_prob_df = pd.DataFrame({'backdoor_path':Z_groups, 'prob':prob_groups})\n",
    "        row_total_prob = row_prob_df['prob'].astype(float).to_numpy()"
   ]
  },
  {
   "cell_type": "code",
   "execution_count": null,
   "id": "06bf3967-8540-4d53-9ee0-151958677bc4",
   "metadata": {},
   "outputs": [],
   "source": [
    "def get_prob_backdoor_opt(G, df, k, update_vars, target_column, condition, opt, row_indexes, theta):\n",
    "    updated_df = get_ranking_query(G, df, len(df), update_vars, target_column, condition, opt)\n",
    "    nodes = update_vars.keys()\n",
    "    results = []\n",
    "    \n",
    "    for node in nodes:\n",
    "        bd_sets = find_backdoor_sets_opt(G, target_column, node)\n",
    "        for bd_set in bd_sets:\n",
    "            dom_y = updated_df[target_column].unique()\n",
    "            dom_node = updated_df[node].unique()\n",
    "            for d_y in dom_y:\n",
    "                for d_n in dom_node:\n",
    "                    adjusted_prob = backdoor_adjustment_opt(updated_df, target_column, d_y, node, d_n, list(bd_set))\n",
    "                    results.append({\n",
    "                        'Y': target_column, \n",
    "                        'Y_value': d_y, \n",
    "                        'X': node, \n",
    "                        'X_value': d_n, \n",
    "                        'Z': ', '.join(bd_set), \n",
    "                        'prob': adjusted_prob\n",
    "                    })\n",
    "    prob_df = pd.DataFrame(results)\n",
    "    \n",
    "    total_prob = None\n",
    "    backdoor_path = None\n",
    "    for row_index in row_indexes:\n",
    "        row = updated_df.loc[row_index]                    \n",
    "        prob_groups = []\n",
    "        Z_groups = []\n",
    "        for z in prob_df['Z'].unique():\n",
    "            z_relevant_probs = prob_df[\n",
    "                (prob_df['Z'] == z) & \n",
    "                (prob_df['Y'] == target_column) & \n",
    "                (prob_df['Y_value'] >= theta)]\n",
    "            Z_groups.append(z)\n",
    "            prob_sum = 0\n",
    "            for x in prob_df['X'].unique():\n",
    "                if x in row.index:  \n",
    "                    x_value = row[x]\n",
    "                    prob_sum += z_relevant_probs[\n",
    "                        (z_relevant_probs['X'] == x) & \n",
    "                        (z_relevant_probs['X_value'] == x_value)]['prob'].sum()\n",
    "            prob_groups.append(prob_sum)\n",
    "\n",
    "        row_prob_df = pd.DataFrame({'backdoor_path':Z_groups, 'prob':prob_groups})\n",
    "        row_total_prob = row_prob_df['prob'].astype(float).to_numpy()\n",
    "\n",
    "        if total_prob is None:\n",
    "            total_prob = row_total_prob\n",
    "        else:\n",
    "            total_prob *= row_total_prob\n",
    "        backdoor_path = row_prob_df['backdoor_path'].to_list()\n",
    "\n",
    "    if total_prob is None:\n",
    "        return pd.DataFrame()\n",
    "    final_df = pd.DataFrame({'prob': total_prob, 'backdoor_path': backdoor_path})\n",
    "    return final_df['prob']"
   ]
  },
  {
   "cell_type": "code",
   "execution_count": 132,
   "id": "4a809196-684c-4ed3-aa6d-803448a254ce",
   "metadata": {},
   "outputs": [],
   "source": [
    "print(df.index)"
   ]
  },
  {
   "cell_type": "code",
   "execution_count": 200,
   "id": "a0dcce31-1dcf-41f3-8961-972f163ee399",
   "metadata": {},
   "outputs": [],
   "source": [
    "def get_prob_backdoor_opt_example(G, df, k, update_vars, target_column, condition, opt):\n",
    "    updated_df = get_ranking_query(G, df, len(df), update_vars, target_column, condition, opt)\n",
    "    nodes = update_vars.keys()\n",
    "    results = []\n",
    "    \n",
    "    for node in nodes:\n",
    "        bd_sets = find_backdoor_sets_opt(G, target_column, node)\n",
    "        for bd_set in bd_sets:\n",
    "            dom_y = updated_df[target_column].unique()\n",
    "            dom_node = updated_df[node].unique()\n",
    "            for d_y in dom_y:\n",
    "                for d_n in dom_node:\n",
    "                    adjusted_prob = backdoor_adjustment_opt(updated_df, target_column, d_y, node, d_n, list(bd_set))\n",
    "                    results.append({\n",
    "                        'Y': target_column, \n",
    "                        'Y_value': d_y, \n",
    "                        'X': node, \n",
    "                        'X_value': d_n, \n",
    "                        'Z': ', '.join(bd_set), \n",
    "                        'prob': adjusted_prob\n",
    "                    })\n",
    "    prob_df = pd.DataFrame(results)\n",
    "    return prob_df"
   ]
  },
  {
   "cell_type": "code",
   "execution_count": 256,
   "id": "7a5a67f4-b536-4dbf-8e6a-aa0be7c055fc",
   "metadata": {},
   "outputs": [],
   "source": [
    "flat_bd_sets = [col for subset in bd_sets for col in subset]\n",
    "\n",
    "# Use the flattened list to index the DataFrame\n",
    "selected_df = df[flat_bd_sets]\n",
    "selected_df"
   ]
  },
  {
   "cell_type": "code",
   "execution_count": 188,
   "id": "943d99bc-49f7-4905-8ee8-7e5bb06384df",
   "metadata": {},
   "outputs": [],
   "source": [
    "bd_sets=find_backdoor_sets_opt(new_G, 'averageRating', 'numVotes')"
   ]
  },
  {
   "cell_type": "code",
   "execution_count": 194,
   "id": "05dc8c27-5bd1-4cd0-baea-c977f7de46ad",
   "metadata": {},
   "outputs": [],
   "source": [
    "a=[]\n",
    "for s in bd_sets:\n",
    "    print(s)\n",
    "    print(2)"
   ]
  },
  {
   "cell_type": "code",
   "execution_count": 201,
   "id": "07089a8a-846f-4a1a-b5cd-563ca6f9fcad",
   "metadata": {},
   "outputs": [],
   "source": [
    "prob_df=get_prob_backdoor_opt_example(new_G, df, len(df), {'numVotes':3}, 'averageRating', {'primaryTitle':'The House of the Spirits'}, opt=\"fix\")"
   ]
  },
  {
   "cell_type": "code",
   "execution_count": 143,
   "id": "a0e7ebc8-c960-4bc3-933e-4db3d403ac01",
   "metadata": {},
   "outputs": [],
   "source": [
    "prob_df['prob'].sum()"
   ]
  },
  {
   "cell_type": "code",
   "execution_count": 148,
   "id": "377147ff-0b96-4b7c-9b3a-b235eae669cb",
   "metadata": {},
   "outputs": [],
   "source": [
    "prob_df[prob_df['X_value']==3].sum()"
   ]
  },
  {
   "cell_type": "code",
   "execution_count": 169,
   "id": "d2f59f46-bbd2-4bd5-81ff-8bfb25552ff0",
   "metadata": {},
   "outputs": [],
   "source": [
    "(prob_df[prob_df['X_value']==0]['Y_value']*prob_df[prob_df['X_value']==0]['prob']).sum()"
   ]
  },
  {
   "cell_type": "code",
   "execution_count": 168,
   "id": "32abb7f6-c472-40aa-87e0-c764d1783905",
   "metadata": {},
   "outputs": [],
   "source": [
    "(prob_df[prob_df['X_value']==1]['Y_value']*prob_df[prob_df['X_value']==1]['prob']).sum()"
   ]
  },
  {
   "cell_type": "code",
   "execution_count": 166,
   "id": "e4dbc861-c2e5-46c7-a8fd-7a94494751eb",
   "metadata": {},
   "outputs": [],
   "source": [
    "(prob_df[prob_df['X_value']==2]['Y_value']*prob_df[prob_df['X_value']==2]['prob']).sum()"
   ]
  },
  {
   "cell_type": "code",
   "execution_count": 164,
   "id": "ffccf899-e7d5-4be1-a2cd-c8242cdd87e1",
   "metadata": {},
   "outputs": [],
   "source": [
    "(prob_df[prob_df['X_value']==3]['Y_value']*prob_df[prob_df['X_value']==3]['prob']).sum()"
   ]
  },
  {
   "cell_type": "code",
   "execution_count": 174,
   "id": "9a10db12-e1a6-4f0f-a1d4-b6bfaab785d5",
   "metadata": {},
   "outputs": [],
   "source": [
    "prob_df['Y_value']"
   ]
  },
  {
   "cell_type": "code",
   "execution_count": null,
   "id": "caa8bf6e-1f2f-4b52-b003-3e8fbe16f1dc",
   "metadata": {},
   "outputs": [],
   "source": [
    "(df, Y, y, A, a, Z)"
   ]
  },
  {
   "cell_type": "code",
   "execution_count": null,
   "id": "965d3a62-dda0-4881-9237-473dd612b89d",
   "metadata": {},
   "outputs": [],
   "source": [
    "backdoor_adjustment_opt(updated_df, target_column, d_y, node, d_n, list(bd_set))"
   ]
  },
  {
   "cell_type": "code",
   "execution_count": 206,
   "id": "4d21a3b8-d324-49a2-9a3a-49ad0cac4a7f",
   "metadata": {},
   "outputs": [],
   "source": [
    "updated_df=get_ranking_query(new_G, df, len(df), {'numVotes':3}, 'averageRating',\n",
    "                         {'primaryTitle':'The House of the Spirits'},\"fix\")"
   ]
  },
  {
   "cell_type": "code",
   "execution_count": 207,
   "id": "5d59f6e6-639d-4eb5-a910-bf49330b6602",
   "metadata": {},
   "outputs": [],
   "source": [
    "updated_df"
   ]
  },
  {
   "cell_type": "code",
   "execution_count": 208,
   "id": "15e825d8-782d-4545-9cfe-ac54a9e54804",
   "metadata": {},
   "outputs": [],
   "source": [
    "backdoor_adjustment_opt(updated_df,'averageRating',9,'numVotes',3,['primaryName', 'startYear'])"
   ]
  },
  {
   "cell_type": "code",
   "execution_count": 175,
   "id": "0d9cb81c-8f01-4fb4-9c30-2e40aabdac36",
   "metadata": {},
   "outputs": [],
   "source": [
    "1/80"
   ]
  },
  {
   "cell_type": "code",
   "execution_count": 171,
   "id": "685ed373-130c-4ba3-8463-22b5bca041e8",
   "metadata": {},
   "outputs": [],
   "source": [
    "len(df)"
   ]
  },
  {
   "cell_type": "code",
   "execution_count": 173,
   "id": "96df7de0-56b5-4cbb-b586-1b438a2360fb",
   "metadata": {},
   "outputs": [],
   "source": [
    "df[(df['numVotes']==3)&(df['averageRating']==9)]"
   ]
  },
  {
   "cell_type": "code",
   "execution_count": 154,
   "id": "f576d526-8d30-4713-b77c-a5ac01264757",
   "metadata": {},
   "outputs": [],
   "source": [
    "from sklearn.ensemble import RandomForestRegressor"
   ]
  },
  {
   "cell_type": "code",
   "execution_count": 151,
   "id": "06b86cf6-5698-45b9-936e-843279c49342",
   "metadata": {},
   "outputs": [],
   "source": [
    "def get_val(row, target, target_val):\n",
    "    for i in range(len(target)):\n",
    "        if not int(row[target[i]]) == int(target_val[i]):\n",
    "            return 0\n",
    "    return 1\n"
   ]
  },
  {
   "cell_type": "code",
   "execution_count": 152,
   "id": "e2caf538-8a1d-4e5d-a538-859fdb3bdb63",
   "metadata": {},
   "outputs": [],
   "source": [
    "def get_prob_o_regression(df, conditional, conditional_values, target, target_val):\n",
    "    new_lst = []\n",
    "    for index, row in df.iterrows():\n",
    "        new_lst.append(get_val(row, target, target_val))\n",
    "\n",
    "    if len(conditional) == 0:\n",
    "        return sum(new_lst) / len(df)\n",
    "\n",
    "    if len(set(new_lst)) == 1:\n",
    "        return int(new_lst[0] == 1)\n",
    "\n",
    "    X = df[conditional] if len(conditional) > 0 else df\n",
    "    regr = RandomForestRegressor(random_state=0)\n",
    "    regr.fit(X, new_lst)\n",
    "    return regr.predict([conditional_values])[0]\n"
   ]
  },
  {
   "cell_type": "code",
   "execution_count": 179,
   "id": "c35698d8-203e-4d2e-a555-d602404e944b",
   "metadata": {},
   "outputs": [],
   "source": [
    "yvals=prob_df['Y_value'].unique()"
   ]
  },
  {
   "cell_type": "code",
   "execution_count": 156,
   "id": "d6203188-b6ef-4577-bbae-78b270f05d82",
   "metadata": {},
   "outputs": [],
   "source": [
    "get_prob_o_regression(df,['numVotes'],[3],['averageRating'],[8.5])"
   ]
  },
  {
   "cell_type": "code",
   "execution_count": 177,
   "id": "bf59882a-3312-4aba-8ceb-f185fb413720",
   "metadata": {},
   "outputs": [],
   "source": [
    "yvals=prob_df['Y_value'].unique()"
   ]
  },
  {
   "cell_type": "code",
   "execution_count": 228,
   "id": "186b716b-478b-43e6-8425-fa041494ae1d",
   "metadata": {},
   "outputs": [],
   "source": [
    "backdoor_adjustment_opt2(updated_df,'averageRating',9,'numVotes',3,['primaryName', 'startYear'])"
   ]
  },
  {
   "cell_type": "code",
   "execution_count": 212,
   "id": "455e3aa0-dc01-4fa9-afc5-481c98feb2c6",
   "metadata": {},
   "outputs": [],
   "source": [
    "backdoor_adjustment_opt2(updated_df,'averageRating',9,'numVotes',3,['primaryName', 'startYear'])"
   ]
  },
  {
   "cell_type": "code",
   "execution_count": 222,
   "id": "546a5a1a-4841-4fa4-bd4d-25992490eb06",
   "metadata": {},
   "outputs": [],
   "source": [
    "updated_df[updated_df['primaryName']==6]"
   ]
  },
  {
   "cell_type": "code",
   "execution_count": 231,
   "id": "158ccbcb-330f-4fcd-ab71-8dc7e526a8b2",
   "metadata": {},
   "outputs": [],
   "source": [
    "def backdoor_adjustment_opt2(df, Y, y, A, a, Z):\n",
    "    prob = 0\n",
    "    total_len = len(df)\n",
    "    total_relevant_Z = 0  \n",
    "    unique_Z_combinations = df[Z].drop_duplicates()\n",
    "    Z_vals = []\n",
    "    Z_sets = []\n",
    "    Z_s = []\n",
    "    for z_values in unique_Z_combinations.itertuples(index=False):\n",
    "        mask_Z = np.ones(len(df), dtype=bool)\n",
    "        for column, value in zip(Z, z_values):\n",
    "            mask_Z = mask_Z & (df[column] == value)\n",
    "        \n",
    "        df_Z = df[mask_Z]\n",
    "        df_A_a_Z = df_Z[df_Z[A] == a]\n",
    "\n",
    "        if not df_A_a_Z.empty:\n",
    "            p_Y_given_A_Z = (df_A_a_Z[Y] == y).sum() / len(df_A_a_Z)\n",
    "            if p_Y_given_A_Z > 0:\n",
    "                Z_vals.append(p_Y_given_A_Z)\n",
    "                Z_sets.append(z_values)\n",
    "                Z_s.append(Z)\n",
    "\n",
    "    # Include 'y' in the output DataFrame\n",
    "    if Z_vals:\n",
    "        return pd.DataFrame({'Y_value': y, 'probs': Z_vals, 'Z_vals': Z_sets, 'Z': Z_s})\n",
    "    else:\n",
    "        return pd.DataFrame()\n",
    "    \n",
    "dataframes = []\n",
    "for x in xvals:\n",
    "    for y in yvals:\n",
    "        result_df = backdoor_adjustment_opt2(updated_df, 'averageRating', y, 'numVotes', x, ['primaryName', 'startYear'])\n",
    "        if not result_df.empty:\n",
    "            dataframes.append(result_df)\n",
    "\n",
    "# Merge all non-empty DataFrames\n",
    "merged_df = pd.concat(dataframes)"
   ]
  },
  {
   "cell_type": "code",
   "execution_count": 234,
   "id": "a39a44c8-330d-413e-80fc-e54defdf67d4",
   "metadata": {},
   "outputs": [],
   "source": [
    "# Assuming merged_df is your DataFrame\n",
    "grouped_df = merged_df.groupby('Z_vals').agg({'probs': 'sum'})\n",
    "\n",
    "# Display the result\n",
    "print(grouped_df)\n"
   ]
  },
  {
   "cell_type": "code",
   "execution_count": 239,
   "id": "b048a739-7115-4c15-a41d-757ecd3e5129",
   "metadata": {},
   "outputs": [],
   "source": [
    "xvals=updated_df['numVotes'].unique()"
   ]
  },
  {
   "cell_type": "code",
   "execution_count": 240,
   "id": "fca4cd29-bb78-402e-86b1-240846b4a4c4",
   "metadata": {},
   "outputs": [],
   "source": [
    "xvals"
   ]
  },
  {
   "cell_type": "code",
   "execution_count": 250,
   "id": "326bc013-779a-4bd5-8d6f-1897441ba4d3",
   "metadata": {},
   "outputs": [],
   "source": [
    "import pandas as pd\n",
    "import numpy as np\n",
    "\n",
    "def backdoor_adjustment_opt2(df, Y, y, A, a, Z):\n",
    "    # Pre-filter the DataFrame\n",
    "    df_A_a = df[df[A] == a]\n",
    "\n",
    "    # Group by Z and calculate probabilities\n",
    "    grouped = df_A_a.groupby(Z).apply(lambda g: (g[Y] == y).sum() / len(g) if not g.empty else 0)\n",
    "    grouped = grouped[grouped > 0].reset_index()\n",
    "    grouped.rename({0: 'probs'}, axis=1, inplace=True)\n",
    "    grouped['Y_value'] = y\n",
    "    grouped['X_value'] = a \n",
    "    grouped['expected_value'] = grouped['Y_value']*grouped['probs']\n",
    "\n",
    "    return grouped\n",
    "\n",
    "# Process in a loop\n",
    "results = []\n",
    "for x in xvals:\n",
    "    for y in yvals:\n",
    "        result_df = backdoor_adjustment_opt2(updated_df, 'averageRating', y, 'numVotes', x, ['primaryName', 'startYear'])\n",
    "        if not result_df.empty:\n",
    "            results.append(result_df)\n",
    "\n",
    "# Concatenate the results\n",
    "merged_df = pd.concat(results, ignore_index=True)\n",
    "\n"
   ]
  },
  {
   "cell_type": "code",
   "execution_count": 251,
   "id": "216a0bee-3bfe-4756-915b-4a4a727ae1e9",
   "metadata": {},
   "outputs": [],
   "source": [
    "merged_df"
   ]
  },
  {
   "cell_type": "code",
   "execution_count": 253,
   "id": "e6199eea-6388-4bf3-9db9-421aefee1f3e",
   "metadata": {},
   "outputs": [],
   "source": [
    "grouped_df = merged_df.groupby(['primaryName','startYear','X_value']).agg({'expected_value': 'sum'})"
   ]
  },
  {
   "cell_type": "code",
   "execution_count": 254,
   "id": "7abee20e-c160-4435-bb79-6b4db3711b24",
   "metadata": {},
   "outputs": [],
   "source": [
    "grouped_df"
   ]
  },
  {
   "cell_type": "code",
   "execution_count": 272,
   "id": "ba0dda62-e54d-4311-8d12-367c882791c1",
   "metadata": {},
   "outputs": [],
   "source": [
    "grouped_df = grouped_df.reset_index()\n",
    "grouped_df"
   ]
  },
  {
   "cell_type": "code",
   "execution_count": null,
   "id": "38f8a096-340e-4ae1-9bf9-bae197d81a8b",
   "metadata": {},
   "outputs": [],
   "source": [
    "results = []\n",
    "for x in xvals:\n",
    "    for y in yvals:\n",
    "        result_df = backdoor_adjustment_opt2(updated_df, 'averageRating', y, 'numVotes', x, ['primaryName', 'startYear'])\n",
    "        if not result_df.empty:\n",
    "            results.append(result_df)\n",
    "\n",
    "merged_df = pd.concat(results, ignore_index=True)"
   ]
  },
  {
   "cell_type": "code",
   "execution_count": 261,
   "id": "f7fc797e-0a21-475c-a5e7-2ea2b7380c0f",
   "metadata": {},
   "outputs": [],
   "source": [
    "flat_bd_sets = [col for subset in bd_sets for col in subset] + ['X_value']\n",
    "\n",
    "# Print to verify\n",
    "print(flat_bd_sets)"
   ]
  },
  {
   "cell_type": "code",
   "execution_count": 325,
   "id": "d53b8939-0064-4b22-8f40-e18da85bab04",
   "metadata": {},
   "outputs": [],
   "source": [
    "def backdoor_adjustment_opt2(df, Y, y, A, a, Z):\n",
    "    df_A_a = df[df[A] == a]\n",
    "    grouped = df_A_a.groupby(Z).apply(lambda g: (g[Y] == y).sum() / len(g) if not g.empty else 0)\n",
    "    grouped = grouped[grouped > 0].reset_index()\n",
    "    grouped.rename({0: 'probs'}, axis=1, inplace=True)\n",
    "    grouped['Y_value'] = y\n",
    "    grouped[A] = a \n",
    "    grouped['expected_value'] = grouped['Y_value']*grouped['probs']\n",
    "\n",
    "    return grouped\n",
    "\n",
    "\n",
    "\n",
    "def predict_backdoor_opt2(G, df, k, update_vars, target_column, condition, opt):\n",
    "    \"\"\"\n",
    "    Use P(Y|do(X),Z) to estimate\n",
    "    \"\"\"\n",
    "    updated_df = get_ranking_query(G, df, len(df), update_vars, target_column, condition, opt)\n",
    "    nodes = update_vars.keys()\n",
    "    results = []\n",
    "\n",
    "    for node in nodes:\n",
    "        bd_sets = find_backdoor_sets_opt(G, target_column, node)\n",
    "        for bd_set in bd_sets:\n",
    "            dom_y = updated_df[target_column].unique()\n",
    "            dom_node = updated_df[node].unique()\n",
    "            for d_y in dom_y:\n",
    "                for d_n in dom_node:\n",
    "                    result_df = backdoor_adjustment_opt2(updated_df, target_column, d_y, node, d_n, list(bd_set))\n",
    "                    if not result_df.empty:\n",
    "                        results.append(result_df)\n",
    "\n",
    "    merged_df = pd.concat(results, ignore_index=True)\n",
    "    flat_bd_sets = [col for subset in bd_sets for col in subset]+[node]\n",
    "    grouped_df = merged_df.groupby(flat_bd_sets).agg({'expected_value': 'sum'}).reset_index()\n",
    "\n",
    "    expected_values = []\n",
    "    for row_index, row in updated_df.iterrows():\n",
    "        match_conditions = {col: row[col] for col in flat_bd_sets}\n",
    "        matched_row = grouped_df[(grouped_df[list(match_conditions)] == pd.Series(match_conditions)).all(axis=1)]\n",
    "        if not matched_row.empty:\n",
    "            expected_value = matched_row['expected_value'].values[0]\n",
    "        expected_values.append(expected_value)\n",
    "\n",
    "    result_df = pd.DataFrame({'row_index': updated_df.index, 'expected_value': expected_values})\n",
    "    return result_df.sort_values(by='expected_value', ascending=False).head(k)"
   ]
  },
  {
   "cell_type": "code",
   "execution_count": 326,
   "id": "ba108b08-edb2-424d-8b5b-090f6c027015",
   "metadata": {},
   "outputs": [],
   "source": [
    "def get_prob_backdoor_opt2(G, df, k, update_vars, target_column, condition, opt, row_indexes, theta):\n",
    "    \"\"\"\n",
    "    Use P(Y|do(X),Z) to estimate\n",
    "    \"\"\"\n",
    "    updated_df = get_ranking_query(G, df, len(df), update_vars, target_column, condition, opt)\n",
    "    nodes = update_vars.keys()\n",
    "    results = []\n",
    "    \n",
    "    for node in nodes:\n",
    "        bd_sets = find_backdoor_sets_opt(G, target_column, node)\n",
    "        for bd_set in bd_sets:\n",
    "            dom_y = updated_df[target_column].unique()\n",
    "            dom_node = updated_df[node].unique()\n",
    "            for d_y in dom_y:\n",
    "                for d_n in dom_node:\n",
    "                    result_df = backdoor_adjustment_opt2(updated_df, target_column, d_y, node, d_n, list(bd_set))\n",
    "                    if not result_df.empty:\n",
    "                        results.append(result_df)\n",
    "    merged_df = pd.concat(results, ignore_index=True)\n",
    "    flat_bd_sets = [col for subset in bd_sets for col in subset]+[node]\n",
    "    filtered_merged_df=merged_df[merged_df['Y_value']>=theta]\n",
    "    prob_df=filtered_merged_df.groupby(flat_bd_sets).agg({'probs': 'sum'}).reset_index()\n",
    "    \n",
    "    total_probs = []\n",
    "    for row_index in row_indexes:\n",
    "        row = updated_df.loc[row_index]                    \n",
    "        match_conditions = {col: row[col] for col in flat_bd_sets}\n",
    "        matched_row = prob_df[(prob_df[list(match_conditions)] == pd.Series(match_conditions)).all(axis=1)]\n",
    "        if not matched_row.empty:\n",
    "            total_prob = matched_row['probs'].values[0]\n",
    "        else:\n",
    "            total_prob=0\n",
    "        total_probs.append(total_prob)\n",
    "        \n",
    "    result_df = pd.DataFrame({'row_index': row_indexes, 'total_probs': total_probs})\n",
    "    return result_df['total_probs'].prod()"
   ]
  },
  {
   "cell_type": "code",
   "execution_count": 299,
   "id": "600278a7-8219-4545-ad46-ec7c42ff54bc",
   "metadata": {},
   "outputs": [],
   "source": [
    "get_prob_backdoor_opt2(new_G, df, 5, {'numVotes':3}, 'averageRating', {'primaryTitle':'The House of the Spirits'}, \"fix\",[69],7)\n"
   ]
  },
  {
   "cell_type": "code",
   "execution_count": 287,
   "id": "a1647a4d-cc60-4def-95b8-f8bf022b1cf3",
   "metadata": {},
   "outputs": [],
   "source": [
    "updated_df.sort_values(by='averageRating', ascending=False).head(5)"
   ]
  },
  {
   "cell_type": "code",
   "execution_count": 278,
   "id": "e739048b-c0ac-48f9-893d-aab4b832d4cc",
   "metadata": {},
   "outputs": [],
   "source": [
    "updated_df.loc[69][['primaryName','startYear','numVotes']]"
   ]
  },
  {
   "cell_type": "code",
   "execution_count": 279,
   "id": "263a201d-f3d2-4cee-85ac-fd65270c9042",
   "metadata": {},
   "outputs": [],
   "source": [
    "updated_df.loc[249][['primaryName','startYear','numVotes']]"
   ]
  },
  {
   "cell_type": "code",
   "execution_count": 281,
   "id": "3568b7b9-a2bd-42b0-93a6-deef6ed4a951",
   "metadata": {},
   "outputs": [],
   "source": [
    "grouped_df[grouped_df['expected_value']>6.85]"
   ]
  },
  {
   "cell_type": "code",
   "execution_count": 322,
   "id": "951b1d46-f3f3-4fd6-8ee6-ba4b7be54060",
   "metadata": {},
   "outputs": [],
   "source": [
    "def get_backdoor_opt1(G, df, k, update_vars, target_column, condition, opt,row_indexes,theta):\n",
    "    updated_df = get_ranking_query(G, df, len(df), update_vars, target_column, condition, opt)\n",
    "    nodes = update_vars.keys()\n",
    "    results = []\n",
    "    ### only one node update each time\n",
    "    for node in nodes:\n",
    "        bd_sets = find_backdoor_sets_opt(G, target_column, node)\n",
    "        for bd_set in bd_sets:\n",
    "            dom_y = updated_df[target_column].unique()\n",
    "            dom_node = updated_df[node].unique()\n",
    "            for d_y in dom_y:\n",
    "                for d_n in dom_node:\n",
    "                    adjusted_prob = backdoor_adjustment_opt(updated_df, target_column, d_y, node, d_n, list(bd_set))\n",
    "                    results.append({\n",
    "                        target_column: d_y, \n",
    "                        node: d_n, \n",
    "                        'Z': ', '.join(bd_set), \n",
    "                        'prob': adjusted_prob\n",
    "                    })\n",
    "    group_df = pd.DataFrame(results)\n",
    "    filtered_group_df = group_df[group_df[target_column] >= theta]\n",
    "    prob_df = filtered_group_df.groupby([node]).agg({'prob': 'sum'}).reset_index()\n",
    "    \n",
    "    total_probs = []\n",
    "    for row_index in row_indexes:\n",
    "        row = updated_df.loc[row_index]                    \n",
    "        match_conditions = row[node]\n",
    "        matched_row = prob_df[prob_df[node] == match_conditions]\n",
    "        if not matched_row.empty:\n",
    "            total_prob = matched_row['prob'].values[0]\n",
    "        else:\n",
    "            total_prob=0\n",
    "        total_probs.append(total_prob)\n",
    "    return np.prod(total_probs)"
   ]
  },
  {
   "cell_type": "code",
   "execution_count": 330,
   "id": "ca068682-b0c9-4de7-b89e-7be53d99e298",
   "metadata": {},
   "outputs": [],
   "source": [
    "def predict_backdoor_opt(G, df, k, update_vars, target_column, condition, opt):\n",
    "    updated_df = get_ranking_query(G, df, len(df), update_vars, target_column, condition, opt)\n",
    "    nodes = update_vars.keys()\n",
    "    results = []\n",
    "    ### only one node update each time\n",
    "    for node in nodes:\n",
    "        bd_sets = find_backdoor_sets_opt(G, target_column, node)\n",
    "        for bd_set in bd_sets:\n",
    "            dom_y = updated_df[target_column].unique()\n",
    "            dom_node = updated_df[node].unique()\n",
    "            for d_y in dom_y:\n",
    "                for d_n in dom_node:\n",
    "                    adjusted_prob = backdoor_adjustment_opt(updated_df, target_column, d_y, node, d_n, list(bd_set))\n",
    "                    results.append({\n",
    "                        target_column: d_y, \n",
    "                        node: d_n, \n",
    "                        'Z': ', '.join(bd_set), \n",
    "                        'prob': adjusted_prob\n",
    "                    })\n",
    "    group_df = pd.DataFrame(results)\n",
    "    group_df['expected_value']=group_df['prob']*group_df[target_column]\n",
    "    prob_df = group_df.groupby([node]).agg({'expected_value': 'sum'}).reset_index()\n",
    "    \n",
    "    expected_values = []\n",
    "    for row_index, row in updated_df.iterrows():                  \n",
    "        match_conditions = row[node]\n",
    "        matched_row = prob_df[prob_df[node] == match_conditions]\n",
    "        if not matched_row.empty:\n",
    "            expected_value = matched_row['expected_value'].values[0]\n",
    "        else:\n",
    "            expected_value=0\n",
    "        expected_values.append(expected_value)\n",
    "        \n",
    "    result_df = pd.DataFrame({'row_index': updated_df.index, 'expected_value': expected_values})\n",
    "    return result_df.sort_values(by='expected_value', ascending=False).head(k)"
   ]
  },
  {
   "cell_type": "code",
   "execution_count": 319,
   "id": "2713b2db-5fec-4527-9a0b-fcc222c8c67f",
   "metadata": {},
   "outputs": [],
   "source": [
    "%%time\n",
    "predict_backdoor_opt(new_G, df, 5, {'numVotes':3}, 'averageRating', {'primaryTitle':'The House of the Spirits'}, \"fix\",[69, 103, 81, 56, 84],7)"
   ]
  },
  {
   "cell_type": "code",
   "execution_count": 320,
   "id": "cb0de7ed-dcfb-43d9-a5f2-4517e8df51eb",
   "metadata": {},
   "outputs": [],
   "source": [
    "%%time\n",
    "get_prob_backdoor_opt(new_G, df, 5, {'numVotes':3}, 'averageRating', {'primaryTitle':'The House of the Spirits'}, \"fix\",[69, 103, 81, 56, 84],7)"
   ]
  },
  {
   "cell_type": "code",
   "execution_count": 318,
   "id": "da3ef6da-752c-45af-a83c-2976cd8dfe24",
   "metadata": {},
   "outputs": [],
   "source": [
    "%%time\n",
    "get_prob_backdoor_opt2(new_G, df, 5, {'numVotes':3}, 'averageRating', {'primaryTitle':'The House of the Spirits'}, \"fix\",[69, 103, 81, 56, 84],7)"
   ]
  },
  {
   "cell_type": "code",
   "execution_count": 328,
   "id": "fc9e2999-f518-467d-868f-25c2f5762ba3",
   "metadata": {},
   "outputs": [],
   "source": [
    "predict_backdoor_opt2(new_G, df, 5, {'numVotes':3}, 'averageRating', {'primaryTitle':'The House of the Spirits'}, \"fix\")"
   ]
  },
  {
   "cell_type": "code",
   "execution_count": 331,
   "id": "31105529-e791-49aa-9656-a20e4e6e5d38",
   "metadata": {},
   "outputs": [],
   "source": [
    "predict_backdoor_opt(new_G, df, 5, {'numVotes':3}, 'averageRating', {'primaryTitle':'The House of the Spirits'}, \"fix\")"
   ]
  },
  {
   "cell_type": "code",
   "execution_count": 332,
   "id": "738d87bb-6628-442d-8d16-87390b29addf",
   "metadata": {},
   "outputs": [],
   "source": [
    "def accuracy_topk_rank(pred_rank, true_rank):\n",
    "    if len(pred_rank) != len(true_rank):\n",
    "        raise ValueError(\"Both lists must be of the same length.\")\n",
    "\n",
    "    correct_count = sum(p == t for p, t in zip(pred_rank, true_rank))\n",
    "    return correct_count / len(pred_rank)\n",
    "\n",
    "\n",
    "\n",
    "def accuracy_in_topk(pred_rank, true_rank):\n",
    "    if len(pred_rank) != len(true_rank):\n",
    "        raise ValueError(\"Both lists must be of the same length.\")\n",
    "\n",
    "    correct_count = sum(p in true_rank for p in pred_rank)\n",
    "    return correct_count / len(pred_rank)\n",
    "    "
   ]
  },
  {
   "cell_type": "code",
   "execution_count": 7,
   "id": "bf5504b5-8f72-4833-b395-20bdfc879822",
   "metadata": {},
   "outputs": [],
   "source": [
    "from sklearn.ensemble import RandomForestRegressor\n",
    "from sklearn.linear_model import Ridge, Lasso, LinearRegression\n",
    "from sklearn.model_selection import train_test_split,GridSearchCV,KFold"
   ]
  },
  {
   "cell_type": "code",
   "execution_count": 8,
   "id": "3c8d8bf0-dce1-4888-bee8-0ef3181ca43a",
   "metadata": {},
   "outputs": [],
   "source": [
    "X=df[[\"numVotes\", \"runtimeMinutes\", \"primaryName\", \"Comedy\", \"Horror\", \"Fantasy\", \"Action\", \"startYear\"]]\n",
    "y=df[\"averageRating\"]\n",
    "X_train, X_test, y_train, y_test = train_test_split(X, y, test_size=0.3, random_state=123)"
   ]
  },
  {
   "cell_type": "code",
   "execution_count": 10,
   "id": "771e8e65-efc3-404d-bdbd-2a98a52686fc",
   "metadata": {},
   "outputs": [],
   "source": [
    "import warnings\n",
    "warnings.filterwarnings('ignore')"
   ]
  },
  {
   "cell_type": "code",
   "execution_count": 12,
   "id": "d21719c9-d1e1-41d4-8fbd-b8d668d9a296",
   "metadata": {},
   "outputs": [],
   "source": [
    "%%capture\n",
    "print(1)"
   ]
  },
  {
   "cell_type": "code",
   "execution_count": 17,
   "id": "03213b10-7c0a-4b69-9985-bd8256b90c6b",
   "metadata": {},
   "outputs": [],
   "source": [
    "%%capture\n",
    "###random forest with variables selected by the importance plot\n",
    "param_grid = {\n",
    "    'n_estimators': [100, 200, 300],\n",
    "    'max_features': ['auto', 'sqrt'],\n",
    "    'max_depth': [10, 20, 30, None],\n",
    "    'min_samples_split': [2, 5, 10],\n",
    "    'min_samples_leaf': [1, 2, 4]\n",
    "}\n",
    "\n",
    "rf = RandomForestRegressor(random_state=123)\n",
    "rf_cv = GridSearchCV(rf,param_grid, cv=5, n_jobs=-1)\n",
    "rf_cv.fit(X_train, y_train)"
   ]
  },
  {
   "cell_type": "code",
   "execution_count": 19,
   "id": "562d517e-f450-4595-a668-f85552b6040a",
   "metadata": {},
   "outputs": [],
   "source": [
    "import seaborn as sns"
   ]
  },
  {
   "cell_type": "code",
   "execution_count": 20,
   "id": "7681a5f2-4f20-42ec-b834-328783c3f858",
   "metadata": {},
   "outputs": [
    {
     "data": {
      "image/png": "[encoded data removed]",
      "text/plain": [
       "<Figure size 720x432 with 1 Axes>"
      ]
     },
     "metadata": {
      "needs_background": "light"
     },
     "output_type": "display_data"
    }
   ],
   "source": [
    "importances = RandomForestRegressor(**rf_cv.best_params_, random_state=123).fit(X_train, y_train).feature_importances_\n",
    "\n",
    "feature_importances = pd.DataFrame({'Feature': X_train.columns, 'Importance': importances})\n",
    "\n",
    "feature_importances = feature_importances.sort_values(by='Importance', ascending=False)\n",
    "\n",
    "plt.figure(figsize=(10, 6))\n",
    "sns.barplot(x='Importance', y='Feature', data=feature_importances)\n",
    "plt.title('Feature Importances')\n",
    "plt.show()\n"
   ]
  },
  {
   "cell_type": "code",
   "execution_count": null,
   "id": "47fc94fa-c59f-4ba2-a1b2-8545ad7f42cb",
   "metadata": {},
   "outputs": [],
   "source": [
    "rf_estimator=RandomForestRegressor(**rf_cv.best_params_, random_state=123).fit(X, y)"
   ]
  },
  {
   "cell_type": "code",
   "execution_count": null,
   "id": "b8b935c5-101f-449e-bcd2-d77f00bd4fba",
   "metadata": {},
   "outputs": [
    {
     "ename": "NameError",
     "evalue": "name 'new_G' is not defined",
     "output_type": "error",
     "traceback": [
      "\u001b[0;31m---------------------------------------------------------------------------\u001b[0m",
      "\u001b[0;31mNameError\u001b[0m                                 Traceback (most recent call last)",
      "Input \u001b[0;32mIn [21]\u001b[0m, in \u001b[0;36m<cell line: 1>\u001b[0;34m()\u001b[0m\n\u001b[0;32m----> 1\u001b[0m updated_df\u001b[38;5;241m=\u001b[39mget_ranking_query(\u001b[43mnew_G\u001b[49m, df, \u001b[38;5;28mlen\u001b[39m(df), {\u001b[38;5;124m'\u001b[39m\u001b[38;5;124mnumVotes\u001b[39m\u001b[38;5;124m'\u001b[39m:\u001b[38;5;241m3\u001b[39m}, \u001b[38;5;124m'\u001b[39m\u001b[38;5;124maverageRating\u001b[39m\u001b[38;5;124m'\u001b[39m,\n\u001b[1;32m      2\u001b[0m                          {\u001b[38;5;124m'\u001b[39m\u001b[38;5;124mprimaryTitle\u001b[39m\u001b[38;5;124m'\u001b[39m:\u001b[38;5;124m'\u001b[39m\u001b[38;5;124mThe House of the Spirits\u001b[39m\u001b[38;5;124m'\u001b[39m},\u001b[38;5;124m\"\u001b[39m\u001b[38;5;124mfix\u001b[39m\u001b[38;5;124m\"\u001b[39m)\n",
      "\u001b[0;31mNameError\u001b[0m: name 'new_G' is not defined"
     ]
    }
   ],
   "source": []
  },
  {
   "cell_type": "code",
   "execution_count": null,
   "id": "32e4f030-1435-4e4e-b192-481bd9904364",
   "metadata": {},
   "outputs": [],
   "source": [
    "\n",
    "ridge_params = {'alpha': [0.001, 0.01, 0.1, 1, 10, 100]}\n",
    "ridge = Ridge()\n",
    "ridge_cv = GridSearchCV(ridge, ridge_params, cv=KFold(n_splits=5, shuffle=True, random_state=123))\n",
    "ridge_cv.fit(X_train, y_train)\n",
    "print(\"Best parameters for Ridge:\", ridge_cv.best_params_)"
   ]
  },
  {
   "cell_type": "code",
   "execution_count": null,
   "id": "c67fafc8-ba75-4bf5-a63a-c548354e187c",
   "metadata": {},
   "outputs": [],
   "source": []
  }
 ],
 "metadata": {
  "kernelspec": {
   "display_name": "Python 3 (ipykernel)",
   "language": "python",
   "name": "python3"
  },
  "language_info": {
   "codemirror_mode": {
    "name": "ipython",
    "version": 3
   },
   "file_extension": ".py",
   "mimetype": "text/x-python",
   "name": "python",
   "nbconvert_exporter": "python",
   "pygments_lexer": "ipython3",
   "version": "3.10.4"
  }
 },
 "nbformat": 4,
 "nbformat_minor": 5
}
