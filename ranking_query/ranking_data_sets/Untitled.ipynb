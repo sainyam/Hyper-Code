{
 "cells": [
  {
   "cell_type": "code",
   "execution_count": 1,
   "id": "770a67e2-d038-4b97-aca9-ac5829a50857",
   "metadata": {},
   "outputs": [],
   "source": [
    "import pandas as pd\n",
    "from sklearn.ensemble import RandomForestRegressor\n",
    "\n",
    "# Sample DataFrame\n",
    "data = {\n",
    "    'A': [1, 2, 3, 4, 5],\n",
    "    'B': [5, 4, 3, 2, 1],\n",
    "    'C': [2, 3, 4, 5, 6]\n",
    "}\n",
    "df = pd.DataFrame(data)\n"
   ]
  },
  {
   "cell_type": "code",
   "execution_count": 2,
   "id": "b6724967-113b-4410-8261-11cefcb4e136",
   "metadata": {},
   "outputs": [],
   "source": [
    "def get_val(row, target, target_val):\n",
    "    for i in range(len(target)):\n",
    "        if not int(row[target[i]]) == int(target_val[i]):\n",
    "            return 0\n",
    "    return 1\n"
   ]
  },
  {
   "cell_type": "code",
   "execution_count": 9,
   "id": "c90c2bea-96f6-4683-90a2-b467d76e2c3b",
   "metadata": {},
   "outputs": [
    {
     "name": "stdout",
     "output_type": "stream",
     "text": [
      "0 A    1\n",
      "B    5\n",
      "C    2\n",
      "Name: 0, dtype: int64\n",
      "1 A    2\n",
      "B    4\n",
      "C    3\n",
      "Name: 1, dtype: int64\n",
      "2 A    3\n",
      "B    3\n",
      "C    4\n",
      "Name: 2, dtype: int64\n",
      "3 A    4\n",
      "B    2\n",
      "C    5\n",
      "Name: 3, dtype: int64\n",
      "4 A    5\n",
      "B    1\n",
      "C    6\n",
      "Name: 4, dtype: int64\n"
     ]
    }
   ],
   "source": [
    "for index, row in df.iterrows():\n",
    "    print(index,row)"
   ]
  },
  {
   "cell_type": "code",
   "execution_count": 3,
   "id": "ca3384d0-de9d-4276-a18d-cd0f84e082a0",
   "metadata": {},
   "outputs": [],
   "source": [
    "def get_prob_o_regression(df, conditional, conditional_values, target, target_val):\n",
    "    new_lst = []\n",
    "    for index, row in df.iterrows():\n",
    "        new_lst.append(get_val(row, target, target_val))\n",
    "\n",
    "    if len(conditional) == 0:\n",
    "        return sum(new_lst) / len(df)\n",
    "\n",
    "    if len(set(new_lst)) == 1:\n",
    "        return int(new_lst[0] == 1)\n",
    "\n",
    "    X = df[conditional] if len(conditional) > 0 else df\n",
    "    regr = RandomForestRegressor(random_state=0)\n",
    "    regr.fit(X, new_lst)\n",
    "    return regr.predict([conditional_values])[0]\n"
   ]
  },
  {
   "cell_type": "code",
   "execution_count": 4,
   "id": "856ffadb-77f7-47a8-a2bd-ff7b2fdfc421",
   "metadata": {},
   "outputs": [
    {
     "name": "stdout",
     "output_type": "stream",
     "text": [
      "Score: 0.68\n"
     ]
    },
    {
     "name": "stderr",
     "output_type": "stream",
     "text": [
      "/Users/wangning/opt/anaconda3/envs/cpsc330/lib/python3.10/site-packages/sklearn/base.py:450: UserWarning: X does not have valid feature names, but RandomForestRegressor was fitted with feature names\n",
      "  warnings.warn(\n"
     ]
    }
   ],
   "source": [
    "# Example usage\n",
    "conditional = ['A', 'B']  # Columns to use as features in regression\n",
    "conditional_values = [3, 3]  # Example values for prediction\n",
    "target = ['C']  # Column to check against target_val\n",
    "target_val = [4]  # Target value to match in column 'C'\n",
    "\n",
    "score = get_prob_o_regression(df, conditional, conditional_values, target, target_val)\n",
    "print(f\"Score: {score}\")\n"
   ]
  },
  {
   "cell_type": "code",
   "execution_count": 16,
   "id": "f704d3d4-bac4-412f-ac64-f8d9c6b92e93",
   "metadata": {},
   "outputs": [
    {
     "name": "stderr",
     "output_type": "stream",
     "text": [
      "/Users/wangning/opt/anaconda3/envs/cpsc330/lib/python3.10/site-packages/sklearn/base.py:450: UserWarning: X does not have valid feature names, but RandomForestRegressor was fitted with feature names\n",
      "  warnings.warn(\n"
     ]
    },
    {
     "data": {
      "text/plain": [
       "0.68"
      ]
     },
     "execution_count": 16,
     "metadata": {},
     "output_type": "execute_result"
    }
   ],
   "source": [
    "target_val = [4] \n",
    "\n",
    "score = get_prob_o_regression(df, conditional, conditional_values, target, target_val)\n",
    "score"
   ]
  },
  {
   "cell_type": "code",
   "execution_count": 20,
   "id": "f451756f-295e-40c0-9c55-4319c168156b",
   "metadata": {},
   "outputs": [],
   "source": [
    "from sklearn.linear_model import LinearRegression"
   ]
  },
  {
   "cell_type": "code",
   "execution_count": null,
   "id": "e2289511-a945-439f-8840-3e89a60ff82c",
   "metadata": {},
   "outputs": [],
   "source": [
    "train_regression_raw(df, conditional, conditional_values, target)"
   ]
  },
  {
   "cell_type": "code",
   "execution_count": null,
   "id": "9f777c1d-83e3-4d68-81af-8ce626856a32",
   "metadata": {},
   "outputs": [],
   "source": []
  }
 ],
 "metadata": {
  "kernelspec": {
   "display_name": "Python 3 (ipykernel)",
   "language": "python",
   "name": "python3"
  },
  "language_info": {
   "codemirror_mode": {
    "name": "ipython",
    "version": 3
   },
   "file_extension": ".py",
   "mimetype": "text/x-python",
   "name": "python",
   "nbconvert_exporter": "python",
   "pygments_lexer": "ipython3",
   "version": "3.10.4"
  }
 },
 "nbformat": 4,
 "nbformat_minor": 5
}
