{
 "cells": [
  {
   "cell_type": "code",
   "execution_count": 1,
   "id": "1f56bf1d-5157-4750-ae50-b5943d76ac1e",
   "metadata": {},
   "outputs": [],
   "source": [
    "import pandas as pd\n",
    "import numpy as np\n",
    "import statsmodels.api as sm\n",
    "import matplotlib.pyplot as plt\n",
    "import networkx as nx\n",
    "import itertools\n",
    "import math as m\n",
    "from collections import defaultdict"
   ]
  },
  {
   "cell_type": "code",
   "execution_count": 2,
   "id": "70600172-8959-410d-b7cc-0e6aee9ec8a1",
   "metadata": {},
   "outputs": [
    {
     "name": "stderr",
     "output_type": "stream",
     "text": [
      "/Users/wangning/opt/anaconda3/envs/cpsc330/lib/python3.10/site-packages/tqdm/auto.py:22: TqdmWarning: IProgress not found. Please update jupyter and ipywidgets. See https://ipywidgets.readthedocs.io/en/stable/user_install.html\n",
      "  from .autonotebook import tqdm as notebook_tqdm\n"
     ]
    }
   ],
   "source": [
    "from ranking_funcs import read_imdb_actor_data,Comp_Greedy_Algo_backdoor,get_prob_backdoor_opt,rec_row_prob_back,backdoor_adjustment_opt,find_backdoor_sets_opt,Greedy_Algo,get_most_probable_elements,get_cgm,get_prob_backdoor_opt,get_probs,get_prob_backdoor,filter_prob_df_grouped,read_data,get_ranking_query_prob_grouped,get_stable_ranking_opt,get_ranking_query,get_ranking_query_prob,get_test_revert_ranking_rec,get_new_G,filter_prob_df,calc_prob,base_line"
   ]
  },
  {
   "cell_type": "markdown",
   "id": "5690c1f3-c797-4ca8-b221-57a7a11d06ed",
   "metadata": {},
   "source": [
    "- Television Series:'tvSeries','tvMiniSeries'\n",
    "\n",
    "- Television Specials:'tvSpecial','tvMovie','tvShort','tvEpisode'\n",
    "\n",
    "- Film Content:'movie'\n",
    "\n",
    "- Short Formats:'short'\n",
    "\n",
    "- Interactive/Other Formats:'video','videoGame'"
   ]
  },
  {
   "cell_type": "code",
   "execution_count": 5,
   "id": "75074ba7-01b4-4e32-9114-9ec0dd013ba8",
   "metadata": {},
   "outputs": [],
   "source": [
    "def read_imdb_actor_data(path):\n",
    "    df = pd.read_csv(path)\n",
    "    df['averageRating'] = round(df['averageRating'], 0)\n",
    "    df['isAdult'] = df['isAdult'].apply(lambda x: 1 if x == 1 else 0)\n",
    "\n",
    "    def runtime_category(runtime):\n",
    "        if runtime <= 5: return 0\n",
    "        elif runtime <= 15: return 1\n",
    "        elif runtime <= 30: return 2\n",
    "        else: return 3\n",
    "    df['runtimeMinutes'] = df['runtimeMinutes'].apply(runtime_category)\n",
    "\n",
    "    def votes_category(votes):\n",
    "        if votes <= 15: return 0\n",
    "        elif votes <= 35: return 1\n",
    "        elif votes <= 100: return 2\n",
    "        else: return 3\n",
    "    df['numVotes'] = df['numVotes'].apply(votes_category)\n",
    "\n",
    "    name_map = {'Michael Smith': 0, 'David Smith': 1, 'Michael Johnson': 2,\n",
    "                'Chris Smith': 3, 'David Brown': 4, 'David Jones': 5}\n",
    "    df['primaryName'] = df['primaryName'].apply(lambda x: name_map.get(x, -1))\n",
    "\n",
    "    title_type_map = {'tvSeries': 0, 'tvMiniSeries': 0, 'tvSpecial': 1,\n",
    "                      'tvMovie': 1, 'tvShort': 1, 'tvEpisode': 1,\n",
    "                      'movie': 2, 'short': 3, 'video': 4, 'videoGame': 4}\n",
    "    df['titleType'] = df['titleType'].apply(lambda x: title_type_map.get(x, -1))\n",
    "    return df\n",
    "\n"
   ]
  },
  {
   "cell_type": "code",
   "execution_count": 6,
   "id": "0da48c85-8d8e-4dcb-9c82-f16e48ab890f",
   "metadata": {},
   "outputs": [
    {
     "data": {
      "text/html": [
       "<div>\n",
       "<style scoped>\n",
       "    .dataframe tbody tr th:only-of-type {\n",
       "        vertical-align: middle;\n",
       "    }\n",
       "\n",
       "    .dataframe tbody tr th {\n",
       "        vertical-align: top;\n",
       "    }\n",
       "\n",
       "    .dataframe thead th {\n",
       "        text-align: right;\n",
       "    }\n",
       "</style>\n",
       "<table border=\"1\" class=\"dataframe\">\n",
       "  <thead>\n",
       "    <tr style=\"text-align: right;\">\n",
       "      <th></th>\n",
       "      <th>primaryName</th>\n",
       "      <th>tconst_x</th>\n",
       "      <th>averageRating</th>\n",
       "      <th>numVotes</th>\n",
       "      <th>titleType</th>\n",
       "      <th>primaryTitle</th>\n",
       "      <th>isAdult</th>\n",
       "      <th>runtimeMinutes</th>\n",
       "    </tr>\n",
       "  </thead>\n",
       "  <tbody>\n",
       "    <tr>\n",
       "      <th>0</th>\n",
       "      <td>2</td>\n",
       "      <td>tt0159163</td>\n",
       "      <td>8.0</td>\n",
       "      <td>2</td>\n",
       "      <td>0</td>\n",
       "      <td>The Expert</td>\n",
       "      <td>0</td>\n",
       "      <td>3</td>\n",
       "    </tr>\n",
       "    <tr>\n",
       "      <th>1</th>\n",
       "      <td>2</td>\n",
       "      <td>tt0057757</td>\n",
       "      <td>8.0</td>\n",
       "      <td>3</td>\n",
       "      <td>0</td>\n",
       "      <td>The Human Jungle</td>\n",
       "      <td>0</td>\n",
       "      <td>3</td>\n",
       "    </tr>\n",
       "    <tr>\n",
       "      <th>2</th>\n",
       "      <td>2</td>\n",
       "      <td>tt0159897</td>\n",
       "      <td>7.0</td>\n",
       "      <td>2</td>\n",
       "      <td>0</td>\n",
       "      <td>The Newcomers</td>\n",
       "      <td>0</td>\n",
       "      <td>2</td>\n",
       "    </tr>\n",
       "    <tr>\n",
       "      <th>3</th>\n",
       "      <td>2</td>\n",
       "      <td>tt0064030</td>\n",
       "      <td>7.0</td>\n",
       "      <td>3</td>\n",
       "      <td>2</td>\n",
       "      <td>Anne of the Thousand Days</td>\n",
       "      <td>0</td>\n",
       "      <td>3</td>\n",
       "    </tr>\n",
       "    <tr>\n",
       "      <th>4</th>\n",
       "      <td>2</td>\n",
       "      <td>tt0103460</td>\n",
       "      <td>6.0</td>\n",
       "      <td>3</td>\n",
       "      <td>0</td>\n",
       "      <td>Kung Fu: The Legend Continues</td>\n",
       "      <td>0</td>\n",
       "      <td>3</td>\n",
       "    </tr>\n",
       "  </tbody>\n",
       "</table>\n",
       "</div>"
      ],
      "text/plain": [
       "   primaryName   tconst_x  averageRating  numVotes  titleType  \\\n",
       "0            2  tt0159163            8.0         2          0   \n",
       "1            2  tt0057757            8.0         3          0   \n",
       "2            2  tt0159897            7.0         2          0   \n",
       "3            2  tt0064030            7.0         3          2   \n",
       "4            2  tt0103460            6.0         3          0   \n",
       "\n",
       "                    primaryTitle  isAdult  runtimeMinutes  \n",
       "0                     The Expert        0               3  \n",
       "1               The Human Jungle        0               3  \n",
       "2                  The Newcomers        0               2  \n",
       "3      Anne of the Thousand Days        0               3  \n",
       "4  Kung Fu: The Legend Continues        0               3  "
      ]
     },
     "execution_count": 6,
     "metadata": {},
     "output_type": "execute_result"
    }
   ],
   "source": [
    "df=read_imdb_actor_data('ranking_data_sets/cleaned_imdb_name.csv')\n",
    "df.head()"
   ]
  },
  {
   "cell_type": "markdown",
   "id": "0fa2d8fd-a327-43f7-8630-0554638ba389",
   "metadata": {},
   "source": [
    "- primaryName might influence the type of titles they are in, which could affect ratings. So, primaryName → titleType → averageRating.\n",
    "- primaryName might influence the viewership of a title, potentially affecting the number of votes. More popular actors might attract more attention to a title, indirectly influencing its rating through increased visibility or expectations. So, primaryName → numVotes → averageRating.\n",
    "- The length of the content might be tailored or selected based on the actor's typical roles or preferences, which could then influence ratings. So, primaryName → runtimeMinutes → averageRating.\n",
    "- Whether a film is intended for adults might be influenced by the typical roles or image of an actor, which could then influence its rating. So, primaryName → isAdult → averageRating.\n"
   ]
  },
  {
   "cell_type": "code",
   "execution_count": 7,
   "id": "e2d69cb9-0267-4574-9c2d-66f6a94086d6",
   "metadata": {},
   "outputs": [
    {
     "data": {
      "image/png": "[encoded data removed]",
      "text/plain": [
       "<Figure size 432x288 with 1 Axes>"
      ]
     },
     "metadata": {},
     "output_type": "display_data"
    }
   ],
   "source": [
    "G = nx.DiGraph()\n",
    "\n",
    "nodes = [\"averageRating\", \"numVotes\", \"titleType\", \"isAdult\", \"runtimeMinutes\", \"primaryName\"]\n",
    "G.add_nodes_from(nodes)\n",
    "\n",
    "edges = [\n",
    "    (\"primaryName\", \"averageRating\"), \n",
    "    (\"primaryName\", \"titleType\"),     \n",
    "    (\"titleType\", \"averageRating\"),\n",
    "    (\"primaryName\", \"numVotes\"),\n",
    "    (\"numVotes\", \"averageRating\"),\n",
    "    (\"primaryName\", \"runtimeMinutes\"),\n",
    "    (\"runtimeMinutes\", \"averageRating\"),\n",
    "    (\"isAdult\", \"primaryName\"),\n",
    "    (\"isAdult\", \"averageRating\")\n",
    "]\n",
    "G.add_edges_from(edges)\n",
    "\n",
    "nx.draw(G, with_labels=True, node_color='skyblue', node_size=2000, edge_cmap=plt.cm.Blues)\n",
    "plt.show()"
   ]
  },
  {
   "cell_type": "code",
   "execution_count": 8,
   "id": "af00bca2-a390-4347-8c1c-49324a645531",
   "metadata": {},
   "outputs": [],
   "source": [
    "new_G=get_new_G(G,df)"
   ]
  },
  {
   "cell_type": "code",
   "execution_count": 7,
   "id": "7c326689-b832-4643-9d36-9274be9918d0",
   "metadata": {},
   "outputs": [],
   "source": [
    "nds=[\"isAdult\", \"runtimeMinutes\", \"averageRating\", \"primaryName\"]"
   ]
  },
  {
   "cell_type": "code",
   "execution_count": 8,
   "id": "67d8e9d6-5386-420e-8111-2ebd08513815",
   "metadata": {},
   "outputs": [
    {
     "name": "stdout",
     "output_type": "stream",
     "text": [
      "('isAdult', None)\n",
      "('runtimeMinutes', [frozenset({'primaryName'})])\n",
      "('averageRating', None)\n",
      "('primaryName', [frozenset({'isAdult'})])\n"
     ]
    }
   ],
   "source": [
    "for n in nds:\n",
    "    print((n,find_backdoor_sets_opt(G, \"averageRating\", n)))"
   ]
  },
  {
   "cell_type": "code",
   "execution_count": 9,
   "id": "058be4c0-6871-47c1-9d44-3811ca17bee8",
   "metadata": {},
   "outputs": [
    {
     "data": {
      "text/html": [
       "<div>\n",
       "<style scoped>\n",
       "    .dataframe tbody tr th:only-of-type {\n",
       "        vertical-align: middle;\n",
       "    }\n",
       "\n",
       "    .dataframe tbody tr th {\n",
       "        vertical-align: top;\n",
       "    }\n",
       "\n",
       "    .dataframe thead th {\n",
       "        text-align: right;\n",
       "    }\n",
       "</style>\n",
       "<table border=\"1\" class=\"dataframe\">\n",
       "  <thead>\n",
       "    <tr style=\"text-align: right;\">\n",
       "      <th></th>\n",
       "      <th>primaryName</th>\n",
       "      <th>tconst_x</th>\n",
       "      <th>averageRating</th>\n",
       "      <th>numVotes</th>\n",
       "      <th>titleType</th>\n",
       "      <th>primaryTitle</th>\n",
       "      <th>isAdult</th>\n",
       "      <th>runtimeMinutes</th>\n",
       "    </tr>\n",
       "  </thead>\n",
       "  <tbody>\n",
       "    <tr>\n",
       "      <th>192</th>\n",
       "      <td>2</td>\n",
       "      <td>tt11524214</td>\n",
       "      <td>10.0</td>\n",
       "      <td>1</td>\n",
       "      <td>0</td>\n",
       "      <td>Water Helps the Blood Run</td>\n",
       "      <td>0</td>\n",
       "      <td>2</td>\n",
       "    </tr>\n",
       "    <tr>\n",
       "      <th>964</th>\n",
       "      <td>2</td>\n",
       "      <td>tt6057470</td>\n",
       "      <td>10.0</td>\n",
       "      <td>0</td>\n",
       "      <td>3</td>\n",
       "      <td>The Last Visit</td>\n",
       "      <td>0</td>\n",
       "      <td>2</td>\n",
       "    </tr>\n",
       "    <tr>\n",
       "      <th>819</th>\n",
       "      <td>0</td>\n",
       "      <td>tt10846308</td>\n",
       "      <td>10.0</td>\n",
       "      <td>0</td>\n",
       "      <td>3</td>\n",
       "      <td>Divided We Stand</td>\n",
       "      <td>0</td>\n",
       "      <td>2</td>\n",
       "    </tr>\n",
       "    <tr>\n",
       "      <th>971</th>\n",
       "      <td>0</td>\n",
       "      <td>tt7586230</td>\n",
       "      <td>10.0</td>\n",
       "      <td>0</td>\n",
       "      <td>3</td>\n",
       "      <td>Tertium Quid</td>\n",
       "      <td>0</td>\n",
       "      <td>2</td>\n",
       "    </tr>\n",
       "    <tr>\n",
       "      <th>834</th>\n",
       "      <td>1</td>\n",
       "      <td>tt3507346</td>\n",
       "      <td>10.0</td>\n",
       "      <td>0</td>\n",
       "      <td>3</td>\n",
       "      <td>Haiti Speaks</td>\n",
       "      <td>0</td>\n",
       "      <td>3</td>\n",
       "    </tr>\n",
       "  </tbody>\n",
       "</table>\n",
       "</div>"
      ],
      "text/plain": [
       "     primaryName    tconst_x  averageRating  numVotes  titleType  \\\n",
       "192            2  tt11524214           10.0         1          0   \n",
       "964            2   tt6057470           10.0         0          3   \n",
       "819            0  tt10846308           10.0         0          3   \n",
       "971            0   tt7586230           10.0         0          3   \n",
       "834            1   tt3507346           10.0         0          3   \n",
       "\n",
       "                  primaryTitle  isAdult  runtimeMinutes  \n",
       "192  Water Helps the Blood Run        0               2  \n",
       "964             The Last Visit        0               2  \n",
       "819           Divided We Stand        0               2  \n",
       "971               Tertium Quid        0               2  \n",
       "834               Haiti Speaks        0               3  "
      ]
     },
     "execution_count": 9,
     "metadata": {},
     "output_type": "execute_result"
    }
   ],
   "source": [
    "df.sort_values(by='averageRating',ascending=False).head(5)"
   ]
  },
  {
   "cell_type": "code",
   "execution_count": 10,
   "id": "169eae8e-3d2b-4482-9d4d-03249fc01f46",
   "metadata": {},
   "outputs": [],
   "source": [
    "popular_actors=['Michael Smith',\n",
    "                'David Smith',\n",
    "                'Michael Johnson',\n",
    "                'Chris Smith',\n",
    "                'David Brown'\n",
    "                'David Jones']"
   ]
  },
  {
   "cell_type": "code",
   "execution_count": 11,
   "id": "c04256a3-24c1-4291-b472-a059247b7178",
   "metadata": {},
   "outputs": [
    {
     "data": {
      "text/plain": [
       "0    0.000049\n",
       "Name: prob, dtype: float64"
      ]
     },
     "execution_count": 11,
     "metadata": {},
     "output_type": "execute_result"
    }
   ],
   "source": [
    "df_bo=get_prob_backdoor_opt(new_G, df, 5, {'primaryName':0}, 'averageRating', {'primaryName':1}, 'fix', [819,971], 10)\n",
    "\n",
    "df_bo"
   ]
  },
  {
   "cell_type": "code",
   "execution_count": 19,
   "id": "ecb78790-fed7-4af6-94c7-7c95ed75a6d7",
   "metadata": {},
   "outputs": [
    {
     "data": {
      "text/html": [
       "<div>\n",
       "<style scoped>\n",
       "    .dataframe tbody tr th:only-of-type {\n",
       "        vertical-align: middle;\n",
       "    }\n",
       "\n",
       "    .dataframe tbody tr th {\n",
       "        vertical-align: top;\n",
       "    }\n",
       "\n",
       "    .dataframe thead th {\n",
       "        text-align: right;\n",
       "    }\n",
       "</style>\n",
       "<table border=\"1\" class=\"dataframe\">\n",
       "  <thead>\n",
       "    <tr style=\"text-align: right;\">\n",
       "      <th></th>\n",
       "      <th>rank</th>\n",
       "      <th>prob</th>\n",
       "      <th>total_iters</th>\n",
       "    </tr>\n",
       "  </thead>\n",
       "  <tbody>\n",
       "    <tr>\n",
       "      <th>0</th>\n",
       "      <td>[192, 964, 819, 971, 834]</td>\n",
       "      <td>1.0</td>\n",
       "      <td>100.0</td>\n",
       "    </tr>\n",
       "  </tbody>\n",
       "</table>\n",
       "</div>"
      ],
      "text/plain": [
       "                        rank  prob  total_iters\n",
       "0  [192, 964, 819, 971, 834]   1.0        100.0"
      ]
     },
     "execution_count": 19,
     "metadata": {},
     "output_type": "execute_result"
    }
   ],
   "source": [
    "var=['runtimeMinutes']\n",
    "df_gr=Greedy_Algo(new_G, df, 5, 'averageRating',var,0, None,100, opt=\"add\",force=2)\n",
    "df_gr"
   ]
  },
  {
   "cell_type": "code",
   "execution_count": 26,
   "id": "d98f3452-6c8c-4f0e-abe5-124bca27db97",
   "metadata": {},
   "outputs": [],
   "source": [
    "row_indexes=[819]\n",
    "greedy_backdoor=Comp_Greedy_Algo_backdoor(row_indexes,new_G, df, 5, 'averageRating',var,1, None ,100, opt=\"add\",force=2)"
   ]
  },
  {
   "cell_type": "code",
   "execution_count": 27,
   "id": "80e17501-53f0-4f18-a594-621e670f0e57",
   "metadata": {},
   "outputs": [
    {
     "name": "stdout",
     "output_type": "stream",
     "text": [
      "0    0.033318\n",
      "Name: prob, dtype: float64\n"
     ]
    }
   ],
   "source": [
    "mean_value = sum(greedy_backdoor) / len(greedy_backdoor)\n",
    "print(mean_value)"
   ]
  },
  {
   "cell_type": "code",
   "execution_count": 29,
   "id": "b6cd85db-e9c7-4784-9ea0-b28ad0774c2d",
   "metadata": {},
   "outputs": [
    {
     "data": {
      "text/html": [
       "<div>\n",
       "<style scoped>\n",
       "    .dataframe tbody tr th:only-of-type {\n",
       "        vertical-align: middle;\n",
       "    }\n",
       "\n",
       "    .dataframe tbody tr th {\n",
       "        vertical-align: top;\n",
       "    }\n",
       "\n",
       "    .dataframe thead th {\n",
       "        text-align: right;\n",
       "    }\n",
       "</style>\n",
       "<table border=\"1\" class=\"dataframe\">\n",
       "  <thead>\n",
       "    <tr style=\"text-align: right;\">\n",
       "      <th></th>\n",
       "      <th>primaryName</th>\n",
       "      <th>tconst_x</th>\n",
       "      <th>averageRating</th>\n",
       "      <th>numVotes</th>\n",
       "      <th>titleType</th>\n",
       "      <th>primaryTitle</th>\n",
       "      <th>isAdult</th>\n",
       "      <th>runtimeMinutes</th>\n",
       "    </tr>\n",
       "  </thead>\n",
       "  <tbody>\n",
       "    <tr>\n",
       "      <th>2</th>\n",
       "      <td>2</td>\n",
       "      <td>tt0159897</td>\n",
       "      <td>7.0</td>\n",
       "      <td>2</td>\n",
       "      <td>0</td>\n",
       "      <td>The Newcomers</td>\n",
       "      <td>0</td>\n",
       "      <td>2</td>\n",
       "    </tr>\n",
       "    <tr>\n",
       "      <th>47</th>\n",
       "      <td>3</td>\n",
       "      <td>tt0278171</td>\n",
       "      <td>7.0</td>\n",
       "      <td>2</td>\n",
       "      <td>0</td>\n",
       "      <td>Bill Bryson: Notes from a Small Island</td>\n",
       "      <td>0</td>\n",
       "      <td>2</td>\n",
       "    </tr>\n",
       "    <tr>\n",
       "      <th>70</th>\n",
       "      <td>1</td>\n",
       "      <td>tt0272381</td>\n",
       "      <td>8.0</td>\n",
       "      <td>2</td>\n",
       "      <td>0</td>\n",
       "      <td>The Flaxton Boys</td>\n",
       "      <td>0</td>\n",
       "      <td>2</td>\n",
       "    </tr>\n",
       "    <tr>\n",
       "      <th>81</th>\n",
       "      <td>1</td>\n",
       "      <td>tt0209871</td>\n",
       "      <td>5.0</td>\n",
       "      <td>3</td>\n",
       "      <td>3</td>\n",
       "      <td>The ABC's of Sex Education for Trainable Persons</td>\n",
       "      <td>0</td>\n",
       "      <td>2</td>\n",
       "    </tr>\n",
       "    <tr>\n",
       "      <th>89</th>\n",
       "      <td>0</td>\n",
       "      <td>tt0046592</td>\n",
       "      <td>8.0</td>\n",
       "      <td>3</td>\n",
       "      <td>0</td>\n",
       "      <td>December Bride</td>\n",
       "      <td>0</td>\n",
       "      <td>2</td>\n",
       "    </tr>\n",
       "    <tr>\n",
       "      <th>...</th>\n",
       "      <td>...</td>\n",
       "      <td>...</td>\n",
       "      <td>...</td>\n",
       "      <td>...</td>\n",
       "      <td>...</td>\n",
       "      <td>...</td>\n",
       "      <td>...</td>\n",
       "      <td>...</td>\n",
       "    </tr>\n",
       "    <tr>\n",
       "      <th>1019</th>\n",
       "      <td>2</td>\n",
       "      <td>tt0093616</td>\n",
       "      <td>7.0</td>\n",
       "      <td>2</td>\n",
       "      <td>3</td>\n",
       "      <td>Nice Coloured Girls</td>\n",
       "      <td>0</td>\n",
       "      <td>2</td>\n",
       "    </tr>\n",
       "    <tr>\n",
       "      <th>1028</th>\n",
       "      <td>1</td>\n",
       "      <td>tt0203947</td>\n",
       "      <td>6.0</td>\n",
       "      <td>0</td>\n",
       "      <td>3</td>\n",
       "      <td>Starblanket</td>\n",
       "      <td>0</td>\n",
       "      <td>2</td>\n",
       "    </tr>\n",
       "    <tr>\n",
       "      <th>1029</th>\n",
       "      <td>1</td>\n",
       "      <td>tt0236318</td>\n",
       "      <td>7.0</td>\n",
       "      <td>0</td>\n",
       "      <td>3</td>\n",
       "      <td>I Don't Have to Work That Big</td>\n",
       "      <td>0</td>\n",
       "      <td>2</td>\n",
       "    </tr>\n",
       "    <tr>\n",
       "      <th>1030</th>\n",
       "      <td>2</td>\n",
       "      <td>tt8323858</td>\n",
       "      <td>9.0</td>\n",
       "      <td>0</td>\n",
       "      <td>0</td>\n",
       "      <td>Silenced</td>\n",
       "      <td>0</td>\n",
       "      <td>2</td>\n",
       "    </tr>\n",
       "    <tr>\n",
       "      <th>1036</th>\n",
       "      <td>0</td>\n",
       "      <td>tt2353113</td>\n",
       "      <td>9.0</td>\n",
       "      <td>2</td>\n",
       "      <td>0</td>\n",
       "      <td>Sea Rescue</td>\n",
       "      <td>0</td>\n",
       "      <td>2</td>\n",
       "    </tr>\n",
       "  </tbody>\n",
       "</table>\n",
       "<p>142 rows × 8 columns</p>\n",
       "</div>"
      ],
      "text/plain": [
       "      primaryName   tconst_x  averageRating  numVotes  titleType  \\\n",
       "2               2  tt0159897            7.0         2          0   \n",
       "47              3  tt0278171            7.0         2          0   \n",
       "70              1  tt0272381            8.0         2          0   \n",
       "81              1  tt0209871            5.0         3          3   \n",
       "89              0  tt0046592            8.0         3          0   \n",
       "...           ...        ...            ...       ...        ...   \n",
       "1019            2  tt0093616            7.0         2          3   \n",
       "1028            1  tt0203947            6.0         0          3   \n",
       "1029            1  tt0236318            7.0         0          3   \n",
       "1030            2  tt8323858            9.0         0          0   \n",
       "1036            0  tt2353113            9.0         2          0   \n",
       "\n",
       "                                          primaryTitle  isAdult  \\\n",
       "2                                        The Newcomers        0   \n",
       "47              Bill Bryson: Notes from a Small Island        0   \n",
       "70                                    The Flaxton Boys        0   \n",
       "81    The ABC's of Sex Education for Trainable Persons        0   \n",
       "89                                      December Bride        0   \n",
       "...                                                ...      ...   \n",
       "1019                               Nice Coloured Girls        0   \n",
       "1028                                       Starblanket        0   \n",
       "1029                     I Don't Have to Work That Big        0   \n",
       "1030                                          Silenced        0   \n",
       "1036                                        Sea Rescue        0   \n",
       "\n",
       "      runtimeMinutes  \n",
       "2                  2  \n",
       "47                 2  \n",
       "70                 2  \n",
       "81                 2  \n",
       "89                 2  \n",
       "...              ...  \n",
       "1019               2  \n",
       "1028               2  \n",
       "1029               2  \n",
       "1030               2  \n",
       "1036               2  \n",
       "\n",
       "[142 rows x 8 columns]"
      ]
     },
     "execution_count": 29,
     "metadata": {},
     "output_type": "execute_result"
    }
   ],
   "source": [
    "df[df['runtimeMinutes'] == 2]\n"
   ]
  },
  {
   "cell_type": "code",
   "execution_count": 15,
   "id": "bda9998e-6cef-4d74-b8ac-47c977309511",
   "metadata": {},
   "outputs": [],
   "source": [
    "def k_range_backdoor(G, df, k, update_vars, target_column, condition, opt, row_indexes,end_k):\n",
    "    back_result=[]\n",
    "    for z in range(k,end_k+1):\n",
    "        updated_df=get_ranking_query(G, df, len(df), update_vars, target_column, condition, opt).sort_values(by=target_column,ascending=False)\n",
    "        theta=updated_df[target_column].iloc[z-1]\n",
    "        back_result.append(get_prob_backdoor_opt(G, df, z, update_vars,\n",
    "                                                 target_column, condition, opt, row_indexes, theta))\n",
    "    return back_result\n",
    "        "
   ]
  },
  {
   "cell_type": "code",
   "execution_count": 17,
   "id": "fab85606-59f1-426d-902d-976187e4c4cc",
   "metadata": {},
   "outputs": [],
   "source": [
    "k_range_backdoor_val=k_range_backdoor(new_G, df, 5, {'primaryName':0}, 'averageRating', {'primaryName':2}, 'fix', [819,971],1000)"
   ]
  },
  {
   "cell_type": "code",
   "execution_count": 18,
   "id": "e1b280a9-9e4b-4c9c-85f1-580280e5e820",
   "metadata": {},
   "outputs": [
    {
     "data": {
      "image/png": "[encoded data removed]",
      "text/plain": [
       "<Figure size 432x288 with 1 Axes>"
      ]
     },
     "metadata": {
      "needs_background": "light"
     },
     "output_type": "display_data"
    }
   ],
   "source": [
    "x_values = range(5, 1001)     \n",
    "plt.plot(x_values, k_range_backdoor_val)\n",
    "plt.show()"
   ]
  },
  {
   "cell_type": "code",
   "execution_count": 27,
   "id": "d20d0ed1-ca10-4d83-b3c1-673fdf63f9af",
   "metadata": {},
   "outputs": [],
   "source": [
    "import pandas as pd\n",
    "import numpy as np\n",
    "from sklearn.model_selection import KFold\n",
    "\n",
    "def data_size_backdoor(G, df, k, update_vars, target_column, condition, opt, row_indexes, n_splits, random_state):\n",
    "    kf = KFold(n_splits=n_splits, shuffle=True, random_state=random_state)\n",
    "    df_dropped = df.drop(row_indexes)\n",
    "    \n",
    "    folds = []\n",
    "    for _, test_index in kf.split(df_dropped):\n",
    "        fold_data = df_dropped.iloc[test_index]\n",
    "        folds.append(fold_data)\n",
    "    \n",
    "    selected_rows = df.loc[row_indexes]\n",
    "\n",
    "    data = pd.concat([selected_rows, folds[0]], axis=0)\n",
    "    \n",
    "    back_result = []\n",
    "    back_result_len = []\n",
    "    for i in range(1, len(folds)):\n",
    "        data = pd.concat([data, folds[i]], axis=0)\n",
    "        \n",
    "        if condition and not set(condition.keys()).issubset(data.columns):\n",
    "            update_vars = None\n",
    "        \n",
    "        updated_df=get_ranking_query(G, data, len(data), update_vars, target_column, condition, opt).sort_values(by=target_column,ascending=False)\n",
    "        theta=updated_df[target_column].iloc[k-1]\n",
    "        back_result_len.append(len(updated_df))\n",
    "        back_result.append(get_prob_backdoor_opt(G, data, k, update_vars,\n",
    "                                                 target_column, condition, opt, row_indexes, theta))\n",
    "        \n",
    "    return back_result_len,back_result\n",
    "\n"
   ]
  },
  {
   "cell_type": "code",
   "execution_count": 28,
   "id": "ebf29538-f4a8-454a-b0e5-a03f18e8eaff",
   "metadata": {},
   "outputs": [],
   "source": [
    "lenth,data_size_backdoor_val=data_size_backdoor(new_G, df, 5, {'primaryName':0}, 'averageRating', {'primaryName':2}, 'fix', [819,971],100,123)"
   ]
  },
  {
   "cell_type": "code",
   "execution_count": 30,
   "id": "81631329-6561-4a4e-a98d-5b8876a34e95",
   "metadata": {},
   "outputs": [
    {
     "data": {
      "image/png": "[encoded data removed]",
      "text/plain": [
       "<Figure size 432x288 with 1 Axes>"
      ]
     },
     "metadata": {
      "needs_background": "light"
     },
     "output_type": "display_data"
    }
   ],
   "source": [
    "plt.plot(lenth, data_size_backdoor_val)\n",
    "plt.show()"
   ]
  },
  {
   "cell_type": "code",
   "execution_count": null,
   "id": "c114d2e7-b568-4a4e-934b-df3fae355a41",
   "metadata": {},
   "outputs": [],
   "source": []
  }
 ],
 "metadata": {
  "kernelspec": {
   "display_name": "Python 3 (ipykernel)",
   "language": "python",
   "name": "python3"
  },
  "language_info": {
   "codemirror_mode": {
    "name": "ipython",
    "version": 3
   },
   "file_extension": ".py",
   "mimetype": "text/x-python",
   "name": "python",
   "nbconvert_exporter": "python",
   "pygments_lexer": "ipython3",
   "version": "3.10.4"
  }
 },
 "nbformat": 4,
 "nbformat_minor": 5
}
